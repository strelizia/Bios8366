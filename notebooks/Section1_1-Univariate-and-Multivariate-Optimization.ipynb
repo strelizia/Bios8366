{
 "cells": [
  {
   "cell_type": "markdown",
   "metadata": {},
   "source": [
    "# Univariate and Multivariate Optimization\n",
    "\n",
    "The first two lectures of the course will serve to satisfy two objectives:\n",
    "\n",
    "1. Acquaint students with the Python programming language\n",
    "2. Review an important class of statistical computing algorithms: *optimization*\n",
    "\n",
    "For some of you, one or both of these topics will likely be review. "
   ]
  },
  {
   "cell_type": "markdown",
   "metadata": {},
   "source": [
    "Let's begin by importing the packages we will need for this section.\n",
    "\n",
    "> ### Import statements\n",
    "> Much of Python's power resides in **modules**, either those included in base Python or from third parties, which contain functions and classes that provide key functionality for specialized tasks. We will import several of these modules, here to enable us to more easily peform scientific computing tasks, such as linear algebra, data manipulation, and plotting. The `import` clause will bring the module into the current session.\n",
    "> Here we also create **aliases** for each module, so that they may be accessed more easily."
   ]
  },
  {
   "cell_type": "code",
   "execution_count": 1,
   "metadata": {
    "collapsed": false
   },
   "outputs": [],
   "source": [
    "%matplotlib inline\n",
    "import numpy as np\n",
    "import pandas as pd\n",
    "import seaborn as sns\n",
    "import matplotlib.pyplot as plt"
   ]
  },
  {
   "cell_type": "markdown",
   "metadata": {},
   "source": [
    "> For example, the `seaborn` package provides some high-level plotting capability. Here, we will call the `set_context` function from `seaborn`, which allows us to adjust the size of the labels, lines, and other elements of plots. The `'notebook'` argument tells `seaborn` to set these elements to be suitable for display within a Jupyter Notebook."
   ]
  },
  {
   "cell_type": "code",
   "execution_count": 2,
   "metadata": {
    "collapsed": false
   },
   "outputs": [],
   "source": [
    "# Set some Seaborn options\n",
    "sns.set_context('notebook')"
   ]
  },
  {
   "cell_type": "markdown",
   "metadata": {},
   "source": [
    "## Optimization\n",
    "\n",
    "Optimization is the process of finding the *minima* or *maxima* of a function. Consider a function:\n",
    "\n",
    "$$f: \\mathbf{R} \\rightarrow \\mathbf{R}$$\n",
    "\n",
    "where $f',f''$ are continuous. A point $x^*$ is a *global* maximum if:\n",
    "\n",
    "$$f(x) \\le f(x^*) \\, \\forall \\, x$$\n",
    "\n",
    "or a *local* maximum if:\n",
    "\n",
    "$$f(x) \\le f(x^*)$$ \n",
    "$$\\forall \\, x:|x-x^*| \\lt \\epsilon$$\n",
    "\n",
    "Necessary conditions:\n",
    "\n",
    "1. $f'(x^*) = 0$\n",
    "2. $f''(x^*) \\le 0$ (sufficient if $f''(x^*) \\lt 0$)\n",
    "\n",
    "We will consider **local search** methods that generate a series of values that converge to the maximum:\n",
    "\n",
    "$$x_0, x_1, x_2, \\ldots \\rightarrow \\text{argmax}(f)$$"
   ]
  },
  {
   "cell_type": "markdown",
   "metadata": {},
   "source": [
    "## Example: Maximum Likelihood\n",
    "\n",
    "**Maximum likelihood** (ML) is an approach for estimating the parameters of statistical models. The resulting estimates from ML have good theoretical properties, so it is a widely-used method. \n",
    "\n",
    "There is a ton of theory regarding ML. We will restrict ourselves to the mechanics here.\n",
    "\n",
    "Say we have some data $y = y_1,y_2,\\ldots,y_n$ that is distributed according to some distribution:\n",
    "\n",
    "<div style=\"font-size: 120%;\">  \n",
    "$$Pr(Y_i=y_i | \\theta)$$\n",
    "</div>"
   ]
  },
  {
   "cell_type": "markdown",
   "metadata": {},
   "source": [
    "> ### Random number generation\n",
    "> The `numpy` module contains a `random` submodule with functions for generating random values from several important probability distributions. For example, if we want to generate 100 values from a **Poisson distribution** with a mean of 5, we can make the following function call:"
   ]
  },
  {
   "cell_type": "code",
   "execution_count": 3,
   "metadata": {
    "collapsed": true
   },
   "outputs": [],
   "source": [
    "y = np.random.poisson(5, size=100)"
   ]
  },
  {
   "cell_type": "markdown",
   "metadata": {},
   "source": [
    "> The variable `y` is now the label associated with the resulting 100 values that we have sampled. They are stored in a data structure called an `ndarray`."
   ]
  },
  {
   "cell_type": "code",
   "execution_count": 4,
   "metadata": {
    "collapsed": false
   },
   "outputs": [
    {
     "data": {
      "text/plain": [
       "numpy.ndarray"
      ]
     },
     "execution_count": 4,
     "metadata": {},
     "output_type": "execute_result"
    }
   ],
   "source": [
    "type(y)"
   ]
  },
  {
   "cell_type": "markdown",
   "metadata": {},
   "source": [
    "> We can arbitrarily acces values of this array by **indexing** them, specifying values or ranges of values within square brackets. For example, to get the first value:"
   ]
  },
  {
   "cell_type": "code",
   "execution_count": 5,
   "metadata": {
    "collapsed": false
   },
   "outputs": [
    {
     "data": {
      "text/plain": [
       "0"
      ]
     },
     "execution_count": 5,
     "metadata": {},
     "output_type": "execute_result"
    }
   ],
   "source": [
    "y[0]"
   ]
  },
  {
   "cell_type": "markdown",
   "metadata": {},
   "source": [
    "> Notice Python begins indexing values starting at zero, rather than one. To extract a sub-array, we can use a *slice*, denoted by the boundaries of the sub-array separated with a colon:"
   ]
  },
  {
   "cell_type": "code",
   "execution_count": 6,
   "metadata": {
    "collapsed": false
   },
   "outputs": [
    {
     "data": {
      "text/plain": [
       "array([0, 4, 9, 4, 9, 2, 6, 6, 5, 6])"
      ]
     },
     "execution_count": 6,
     "metadata": {},
     "output_type": "execute_result"
    }
   ],
   "source": [
    "y[0:10]"
   ]
  },
  {
   "cell_type": "markdown",
   "metadata": {},
   "source": [
    "Let's plot a histogram of the sampled values:"
   ]
  },
  {
   "cell_type": "code",
   "execution_count": 7,
   "metadata": {
    "collapsed": false
   },
   "outputs": [
    {
     "data": {
      "text/plain": [
       "<matplotlib.axes._subplots.AxesSubplot at 0xb95d330>"
      ]
     },
     "execution_count": 7,
     "metadata": {},
     "output_type": "execute_result"
    },
    {
     "data": {
      "image/png": "[encoded data removed]",
      "text/plain": [
       "<matplotlib.figure.Figure at 0xc276f30>"
      ]
     },
     "metadata": {},
     "output_type": "display_data"
    }
   ],
   "source": [
    "sns.distplot(y, kde=False, axlabel='y')"
   ]
  },
  {
   "cell_type": "markdown",
   "metadata": {},
   "source": [
    "The product $\\prod_{i=1}^n Pr(y_i | \\theta)$ gives us a measure of how **likely** it is for the parameters $\\theta$ to have generated values $y_1,\\ldots,y_n$. Maximum likelihood fitting consists of choosing the appropriate function $l= Pr(Y|\\theta)$ to maximize for a given set of observations. We call this function the *likelihood function*, because it is a measure of how likely the parameter values are if the model is true; that is, \"Given these data, how likely is this model?\""
   ]
  },
  {
   "cell_type": "markdown",
   "metadata": {},
   "source": [
    "In the above model, the data were drawn from a Poisson distribution with parameter $\\lambda =5$.\n",
    "\n",
    "$$L(y|\\lambda=5) = \\frac{e^{-5} 5^y}{y!}$$\n",
    "\n",
    "So, for any given value of $y$, we can calculate its likelihood.\n",
    "\n",
    "> ### Functions\n",
    "> We can specify our own functions using the `def` clause. The function has three components:\n",
    "> * name\n",
    "> * arguments\n",
    "> * body\n",
    ">\n",
    "> If the function is meant to provide output when called, a `return` statement must be specified."
   ]
  },
  {
   "cell_type": "code",
   "execution_count": 8,
   "metadata": {
    "collapsed": false
   },
   "outputs": [],
   "source": [
    "def poisson_like(x, lam): \n",
    "    return np.exp(-lam) * (lam**x) / (np.arange(x)+1).prod()"
   ]
  },
  {
   "cell_type": "markdown",
   "metadata": {},
   "source": [
    "> Let's try calling our function with two arbitrary values for the Poisson mean parameter `lam` and a particular `value` we want the likelihood value returned for:"
   ]
  },
  {
   "cell_type": "code",
   "execution_count": 9,
   "metadata": {
    "collapsed": false
   },
   "outputs": [
    {
     "data": {
      "text/plain": [
       "0.041303093412337726"
      ]
     },
     "execution_count": 9,
     "metadata": {},
     "output_type": "execute_result"
    }
   ],
   "source": [
    "lam = 6\n",
    "value = 10\n",
    "\n",
    "poisson_like(value, lam)"
   ]
  },
  {
   "cell_type": "markdown",
   "metadata": {},
   "source": [
    "Or, for numerical stability, the log-likelihood:"
   ]
  },
  {
   "cell_type": "code",
   "execution_count": 10,
   "metadata": {
    "collapsed": false
   },
   "outputs": [
    {
     "data": {
      "text/plain": [
       "-3.1868178807949654"
      ]
     },
     "execution_count": 10,
     "metadata": {},
     "output_type": "execute_result"
    }
   ],
   "source": [
    "poisson_loglike = lambda x, lam: -lam + np.log(lam**x) - np.log(np.arange(x)+1).sum()\n",
    "\n",
    "poisson_loglike(value, lam)"
   ]
  },
  {
   "cell_type": "markdown",
   "metadata": {},
   "source": [
    "> ### `lambda` functions\n",
    "> A useful Python idiom is the `lambda` function. This is a shorthand that allows one-line functions to be specified anonymously.\n",
    "\n",
    "The **joint** log-likelihood is then just the sum of the likelihood calculated for all of the data."
   ]
  },
  {
   "cell_type": "code",
   "execution_count": 11,
   "metadata": {
    "collapsed": false
   },
   "outputs": [
    {
     "data": {
      "text/plain": [
       "-236.69472981240699"
      ]
     },
     "execution_count": 11,
     "metadata": {},
     "output_type": "execute_result"
    }
   ],
   "source": [
    "np.sum(poisson_loglike(yi, lam) for yi in y)"
   ]
  },
  {
   "cell_type": "markdown",
   "metadata": {},
   "source": [
    "> ### Comprehensions\n",
    "> Notice how we looped over all of the values of `y` in the above. This is another Python idiom called a `comprehension`, which is a construct that allows sequences to be built from other sequences. The most common is a **list comprehension**:\n",
    ">\n",
    ">      [x**2 + 5 for x in x_values]\n",
    "> In our likeihood calculation, the comprehension results in a **generator** that yields values as they are needed, rather than when the data structure is created.\n",
    "> ![list comprehension](images/listComprehensions.gif)\n",
    "\n",
    "We can compare this value with the log-likelihood for a different value of the parameter."
   ]
  },
  {
   "cell_type": "code",
   "execution_count": 12,
   "metadata": {
    "collapsed": false
   },
   "outputs": [
    {
     "data": {
      "text/plain": [
       "-301.1964736876181"
      ]
     },
     "execution_count": 12,
     "metadata": {},
     "output_type": "execute_result"
    }
   ],
   "source": [
    "lam = 8\n",
    "np.sum(poisson_loglike(yi, lam) for yi in y)"
   ]
  },
  {
   "cell_type": "markdown",
   "metadata": {},
   "source": [
    "We can plot the likelihood function for any value of the parameter(s):"
   ]
  },
  {
   "cell_type": "code",
   "execution_count": 13,
   "metadata": {
    "collapsed": false
   },
   "outputs": [
    {
     "data": {
      "text/plain": [
       "<matplotlib.text.Text at 0xbcbbfb0>"
      ]
     },
     "execution_count": 13,
     "metadata": {},
     "output_type": "execute_result"
    },
    {
     "data": {
      "image/png": "[encoded data removed]",
      "text/plain": [
       "<matplotlib.figure.Figure at 0xb9352f0>"
      ]
     },
     "metadata": {},
     "output_type": "display_data"
    }
   ],
   "source": [
    "# Create a linear space of values between 0 and 15\n",
    "lambdas = np.linspace(0,15)\n",
    "\n",
    "# A data point\n",
    "x = 5\n",
    "\n",
    "plt.plot(lambdas, [poisson_like(x, l) for l in lambdas])\n",
    "plt.xlabel('$\\lambda$')\n",
    "plt.ylabel('L($\\lambda$|x={0})'.format(x))"
   ]
  },
  {
   "cell_type": "markdown",
   "metadata": {},
   "source": [
    "How is the likelihood function different than the probability distribution (or mass) function? The likelihood is a function of the parameter(s) **given the data**, whereas the PDF (PMF) returns the probability of data given a particular **parameter value**. \n",
    "\n",
    "Here is the PMF of the Poisson for $\\lambda=5$."
   ]
  },
  {
   "cell_type": "code",
   "execution_count": 14,
   "metadata": {
    "collapsed": false
   },
   "outputs": [
    {
     "data": {
      "text/plain": [
       "<matplotlib.text.Text at 0xd59f710>"
      ]
     },
     "execution_count": 14,
     "metadata": {},
     "output_type": "execute_result"
    },
    {
     "data": {
      "image/png": "[encoded data removed]",
      "text/plain": [
       "<matplotlib.figure.Figure at 0xbbf5ab0>"
      ]
     },
     "metadata": {},
     "output_type": "display_data"
    }
   ],
   "source": [
    "lam = 5\n",
    "xvals = np.arange(15)\n",
    "\n",
    "plt.bar(xvals, [poisson_like(x, lam) for x in xvals])\n",
    "plt.xlabel('x')\n",
    "plt.ylabel('Pr(X|$\\lambda$=5)')"
   ]
  },
  {
   "cell_type": "markdown",
   "metadata": {},
   "source": [
    "Why are we interested in the likelihood function? \n",
    "\n",
    "A reasonable estimate of the true, unknown value for the parameter is one which **maximizes the likelihood function**. So, inference is reduced to an optimization problem."
   ]
  },
  {
   "cell_type": "markdown",
   "metadata": {},
   "source": [
    "### Example: Nashville rainfall data"
   ]
  },
  {
   "cell_type": "markdown",
   "metadata": {},
   "source": [
    "Consider again the Nashville precipitation data (`nashville_precip.txt`), in your data directory, which records the monthly rainfall from 1871 to 2011. Since this is continuous, positive data, it may be possible to model it using a Gamma distribution. If so, we need to maximize:\n",
    "\n",
    "$$\\begin{align}l(\\alpha,\\beta) &= \\sum_{i=1}^n \\log[\\beta^{\\alpha} x^{\\alpha-1} e^{-x/\\beta}\\Gamma(\\alpha)^{-1}] \\cr \n",
    "&= n[(\\alpha-1)\\overline{\\log(x)} - \\bar{x}\\beta + \\alpha\\log(\\beta) - \\log\\Gamma(\\alpha)]\\end{align}$$\n",
    "\n",
    "where $n = 2012 − 1871 = 141$ and the bar indicates an average over all *i*. We choose $\\alpha$ and $\\beta$ to maximize $l(\\alpha,\\beta)$.\n",
    "\n",
    "Notice $l$ is infinite if any $x$ is zero. We do not have any zeros, but we do have an NA value for one of the October data."
   ]
  },
  {
   "cell_type": "markdown",
   "metadata": {},
   "source": [
    "### Finding the MLE\n",
    "\n",
    "To find the maximum of any function, we typically take the *derivative* with respect to the variable to be maximized, set it to zero and solve for that variable. \n",
    "\n",
    "$$\\frac{\\partial l(\\alpha,\\beta)}{\\partial \\beta} = n\\left(\\frac{\\alpha}{\\beta} - \\bar{x}\\right) = 0$$\n",
    "\n",
    "$$\\frac{\\partial l(\\alpha,\\beta)}{\\partial \\alpha} = n\\left(\\log(\\beta) -\\frac{\\Gamma(\\alpha)'}{\\Gamma(\\alpha)} + \\overline{\\log(x)}\\right) = 0$$\n",
    "\n",
    "So, in general we are finding:\n",
    "\n",
    "$$l(\\theta) = \\left(\\frac{d\\theta}{d\\theta_1}, \\cdots, \\frac{d\\theta}{d\\theta_n}\\right) = \\mathbf{0}$$\n",
    "\n",
    "Thus, we seek the root of the score equation."
   ]
  },
  {
   "cell_type": "markdown",
   "metadata": {},
   "source": [
    "In Python, we can use Sympy to obtain the first derivative of the gamma likelihood with respect to $\\beta$, using symbolic differentiation."
   ]
  },
  {
   "cell_type": "code",
   "execution_count": 15,
   "metadata": {
    "collapsed": false
   },
   "outputs": [
    {
     "data": {
      "text/plain": [
       "a/b - x"
      ]
     },
     "execution_count": 15,
     "metadata": {},
     "output_type": "execute_result"
    }
   ],
   "source": [
    "# via Sympy\n",
    "import sympy as sy\n",
    "\n",
    "a, b, x = sy.symbols('a b x')\n",
    "gamma_dist = (a-1)*sy.log(x) - x*b + a*sy.log(b) - sy.log(sy.gamma(a))\n",
    "sy.diff(gamma_dist, b)"
   ]
  },
  {
   "cell_type": "markdown",
   "metadata": {},
   "source": [
    "Which can be solved as $\\beta = \\alpha/\\bar{x}$. However, plugging this into the derivative with respect to $\\alpha$ yields:\n",
    "\n",
    "$$\\frac{\\partial l(\\alpha,\\beta)}{\\partial \\alpha} = \\log(\\alpha) + \\overline{\\log(x)} - \\log(\\bar{x}) - \\frac{\\Gamma(\\alpha)'}{\\Gamma(\\alpha)} = 0$$\n",
    "\n",
    "This has no closed form solution. We must use ***numerical optimization***!"
   ]
  },
  {
   "cell_type": "markdown",
   "metadata": {},
   "source": [
    "## Bisection method\n",
    "\n",
    "The bisection method performs numerical root-finding for univariate problems. It works on continuous functions on $[a_0, b_0]$ where:\n",
    "\n",
    "$$f^{\\prime}(a_0)f^{\\prime}(b_0) \\le 0$$\n",
    "\n",
    "which implies that there is a local maximum (minimum) between the two values somewhere.\n",
    "\n",
    "The initial interval $[a_0, b_0]$ is arbitrary, as long as the above condition is met.\n",
    "\n",
    "The algorithm iteratively shrinks the interval $[a_i,b_i]$, by subdividing it and retaining the subinterval for which the above condition is still true. If there are multiple optima, bisection will only find one of them.\n",
    "\n",
    "Due to a number of factors, including rounding error in floating point calculations, iterative procedures can easily run indefinitely. To avoid this, we specify a **stopping rule** that halts the algorithm based on some pre-defined convergence criteria.\n",
    "\n",
    "Since we are searching for a root, one approach is to monitor the convergence of $f^{\\prime}((a_i + b_i)/2)$ to zero. However, when the likelihood is very flat, there can be very large changes in the estimated value even when $f^{\\prime}(x)$ is small. Instead, we should monitor the **difference** in values from one iteration to the next.\n",
    "\n",
    "> **absolute convergence criterion**:\n",
    "> \n",
    "> $$| x_{i+1} - x_{i} | \\lt \\epsilon$$\n",
    "> \n",
    "> where $\\epsilon$ is a chosen tolerance.\n",
    "> \n",
    "> **relative convergence criterion**:\n",
    "> \n",
    "> $$\\frac{| x_{i+1} - x_{i} |}{|x_{i}|} \\lt \\epsilon$$\n",
    "> \n",
    "> In general:\n",
    "> \n",
    "> * if values of $x$ are orders of magnitude larger (smaller) than $\\epsilon$, absolute convergence may stop too late (soon)\n",
    "> * if the solution is too close to zero, relative convergence may become unstable\n",
    "\n",
    "\n",
    "Note that for the bisection method:\n",
    "\n",
    "$$b_t - a_t = \\frac{b_0 - a_0}{2^t}$$\n",
    "\n",
    "which means that for a given $\\epsilon$, we require: \n",
    "\n",
    "$$t > \\log_2\\left(\\frac{b_0 - a_0}{\\epsilon}\\right)$$\n",
    "\n",
    "Reducing $\\epsilon$ by a factor of 10 means increasing $t$ by $\\log_2(10) \\approx 3.3$.\n",
    "\n",
    "It is also wise to place an absolute limit on the number of iterations, in case the algorithm diverges or cycles."
   ]
  },
  {
   "cell_type": "markdown",
   "metadata": {},
   "source": [
    "> ### `while` loop\n",
    "> In the function below, we employ a `while` loop, which executes the subsequent code block until the specified condition is no longer true.\n",
    "\n",
    "> ### Functions as arguments\n",
    "> Notice that one of the arguments to `bisection` is expected to be a function (the function we are trying to find the root of). In Python, functions are first-class objects, and can therefore be assigned to variables, deleted, passed as an argument, or anything else you might do with another object, such as an array of data."
   ]
  },
  {
   "cell_type": "code",
   "execution_count": null,
   "metadata": {
    "collapsed": false
   },
   "outputs": [],
   "source": [
    "class ConvergenceError(Exception): pass\n",
    "\n",
    "def bisection(func, a, b, tol=1e-9, max_iter=100):\n",
    "\n",
    "    # Check initial values\n",
    "    if a >= b:\n",
    "        raise ValueError('Right value must be larger than left')\n",
    "    \n",
    "    fa, fb = func([a, b])\n",
    "    \n",
    "    if fa*fb > 0:\n",
    "        raise ValueError('No maximum between specified values')\n",
    "    \n",
    "    i = 0\n",
    "    while (b - a) > tol:\n",
    "        \n",
    "        # More stable than c = (b + a)/2.\n",
    "        c = a + (b - a)/2.\n",
    "        fc = func(c)\n",
    "        \n",
    "        if fa*fc < 0:\n",
    "            b,fb = c,fc\n",
    "        else:\n",
    "            a,fa = c,fc\n",
    "            \n",
    "        i +=1\n",
    "        \n",
    "        if i == max_iter:\n",
    "            raise ConvergenceError('The algorithm did not converge in {0} iterations'.format(max_iter))\n",
    "        \n",
    "    return(a + (b - a)/2., i)"
   ]
  },
  {
   "cell_type": "markdown",
   "metadata": {},
   "source": [
    "> ### Errors and Exceptions\n",
    "> Information about errors when running Python code is provided using an `Exception` object. An **object** is a particular instance of a **class**, which is a programming abstraction that aggregates related functions and attibutes in a single data structure. We are using a particular **subclass** of `Exception` to denote when we have a bad argument value passed to our function.\n",
    ">\n",
    "> Notice that we are deliberately triggering errors in this function, via the `raise` clause. Why would we want to do this?\n",
    ">\n",
    "> We also create a special subclass of the built-in `Exception` class to be used when our algorithm fails to converge, which we will call a `ConvergenceError`."
   ]
  },
  {
   "cell_type": "markdown",
   "metadata": {},
   "source": [
    "To apply this algorithm to the precipitation data, we need a function for the derivative of the log likelihood with respect to one of the parameters, in this case, `beta`.\n",
    "\n",
    "First, let's import our data.\n",
    "\n",
    "> ### Reading tabular data\n",
    "> Our first use of `pandas` will be to import data from a text file. Pandas includes several `read_` functions corrsponding to common file formats. In this case, we are importing a table of precipitation values, stored as a plain text file with values separated by varying numbers of whitespace characters. The `sep` argument below accepts any character that might be used as a separator, as well as a **regular expression**, which we use here."
   ]
  },
  {
   "cell_type": "code",
   "execution_count": null,
   "metadata": {
    "collapsed": true
   },
   "outputs": [],
   "source": [
    "precip = pd.read_table(\"../data/nashville_precip.txt\", sep='\\s+')"
   ]
  },
  {
   "cell_type": "markdown",
   "metadata": {},
   "source": [
    "Since maximizing the likelihood conditions on the data, we can calculate a couple of values ahead of time, namely the log-mean of the data and the mean of the log-transformed values.\n",
    "\n",
    "> ### Method chaining\n",
    "> Notice below that calculations are performed by **chaining** method calls one after the other, using the \"dot notation\". For `log_mean`, we first calculate the mean, and apply the `log` function to that value as soon as it is returned. We only assign a value to a parameter when the final quantity of interest is returned."
   ]
  },
  {
   "cell_type": "code",
   "execution_count": null,
   "metadata": {
    "collapsed": false
   },
   "outputs": [],
   "source": [
    "# Calculate statistics\n",
    "log_mean = precip.mean().apply(np.log)\n",
    "mean_log = precip.apply(np.log).mean()"
   ]
  },
  {
   "cell_type": "markdown",
   "metadata": {},
   "source": [
    "> ### SciPy functions\n",
    "> The SciPy library is one of the core packages that make up the Python *scientific stack*. It provides many user-friendly and efficient numerical routines such as routines for numerical integration and optimization. Here, we are using its `psi` function, which is the derivative of the logarithm of the gamma function evaluated at whichever value is passed to it (also called the digamma function)."
   ]
  },
  {
   "cell_type": "code",
   "execution_count": null,
   "metadata": {
    "collapsed": false
   },
   "outputs": [],
   "source": [
    "from scipy.special import psi\n",
    "\n",
    "def dlgamma(m, month = 'Dec'): \n",
    "    return np.log(m) - psi(m) - log_mean[month] + mean_log[month]"
   ]
  },
  {
   "cell_type": "markdown",
   "metadata": {},
   "source": [
    "To obtain reasonable starting points, there are a handful of strategies:\n",
    "\n",
    "* plotting the function, and obtain a visual estimate\n",
    "* preliminary estimates via other approximate solutions\n",
    "* trial and error\n",
    "\n",
    "Here, we will plot the function:"
   ]
  },
  {
   "cell_type": "code",
   "execution_count": null,
   "metadata": {
    "collapsed": false
   },
   "outputs": [],
   "source": [
    "x = np.linspace(1, 5, 100)\n",
    "y = dlgamma(x)\n",
    "\n",
    "plt.plot(x, y)\n",
    "plt.hlines(0, 1, 5, linestyles='--')"
   ]
  },
  {
   "cell_type": "code",
   "execution_count": null,
   "metadata": {
    "collapsed": false
   },
   "outputs": [],
   "source": [
    "bisection(dlgamma, 2, 4, tol=1e-7)"
   ]
  },
  {
   "cell_type": "markdown",
   "metadata": {},
   "source": [
    "## Convergence Order\n",
    "\n",
    "We can quantify the *efficiency* of root-finding algorithms by calculating its **order of convergence**.\n",
    "\n",
    "If an algorithm satisfies $\\lim_{i \\rightarrow \\infty} \\epsilon_i = 0$, then the parameter $\\beta$ is the order of convergence according to:\n",
    "\n",
    "$$\\lim_{i \\rightarrow \\infty} \\frac{|\\epsilon_{i+1}|}{|\\epsilon_{i}|^{\\beta}} = c$$\n",
    "\n",
    "for some constant $c$. Larger values of $\\beta$ are the result of faster convergence.\n",
    "\n",
    "Note that there is usually a tradeoff of speed vs. robustness.\n",
    "\n",
    "The bisection method is unusual in that it does not meet the criterion for order of convergence, with the ratio above being possibly unbounded. In practice, it tends to exhibit approximately linear convergence."
   ]
  },
  {
   "cell_type": "markdown",
   "metadata": {},
   "source": [
    "## Fixed Point Iteration\n",
    "\n",
    "Another method for finding roots computationally is *fixed-point iteration*. A **fixed point** of a function is a point at which the evaluation of the point equals the point itself. Mathematically, for some function $g:\\mathbf{R} \\Rightarrow \\mathbf{R}$, a fixed point is:\n",
    "\n",
    "$$a \\in \\mathbf{R}: g(a) = a$$\n",
    "\n",
    "So, if we define our function $f$ as:\n",
    "\n",
    "$$f(x) = c(g(x)-x)$$\n",
    "\n",
    "then we can find the root of $f$ when we find the fixed point of $g$. Conversely:\n",
    "\n",
    "$$g(x) = c_1f(x) + x$$"
   ]
  },
  {
   "cell_type": "markdown",
   "metadata": {},
   "source": [
    "The method begins with an initial guess $x_0$, from which we generate $x_1 = g(x_0)$, then $x_2 = g(x_1)$, etc.\n",
    "\n",
    "In general, this is a 1st-order recurrence equation:\n",
    "\n",
    "$$x_{n+1} = g(x_{n})$$\n",
    "\n",
    "We can show that $x_n \\rightarrow a$ is a fixed point of $g$.\n",
    "\n",
    "$$a = \\lim_{n \\rightarrow \\infty} x_{n+1} = \\lim_{n \\rightarrow \\infty} g(x_n)$$\n",
    "$$ = g(\\lim_{n \\rightarrow \\infty} x_n) = a$$\n",
    "\n",
    "therefore, $a$ is a fixed point of $g$."
   ]
  },
  {
   "cell_type": "markdown",
   "metadata": {},
   "source": [
    "Unfortunately, this convergence does not always take place. For example, consider the following functions:\n",
    "\n",
    "$$g_1(x) = x^{1.5}, \\, g_2(x) = x^{0.75}$$\n",
    "\n",
    "both $g_1, g_2$ have fixed points at 1 (by inspection), but $g_1$ diverges.\n",
    "\n",
    "In general,\n",
    "\n",
    "* the algorithm converges if $|g'(a)<1|$, and diverges otherwise.\n",
    "* the initial value should be in the \"neighborhood\" of $x_0$ to guarantee convergence.\n",
    "\n",
    "In practice, we may *converge* to $a$ without reaching it. We want to stop when $x_n$ is \"close enough\":\n",
    "\n",
    "$$ |x_n - x_{n-1}| \\le \\epsilon$$"
   ]
  },
  {
   "cell_type": "markdown",
   "metadata": {},
   "source": [
    "### Exercise: Gamma MLE\n",
    "\n",
    "Implement a fixed point algorithm, and use it to calculate the gamma MLE for one of the months of precipitation in Nashville."
   ]
  },
  {
   "cell_type": "code",
   "execution_count": null,
   "metadata": {
    "collapsed": false
   },
   "outputs": [],
   "source": [
    "# Write your answer here"
   ]
  },
  {
   "cell_type": "markdown",
   "metadata": {},
   "source": [
    "## Newton's Method\n",
    "\n",
    "Bracketing methods like bisection, which bounds a root within a sequence of intervals that gradually decrease in length, are slow relative to other approaches. A much faster root-finding method is **Newton's method**. \n",
    "\n",
    "If we have a function $f$ that is twice-differentiable, we can approximate the root of its derivative using a Taylor series expansion:\n",
    "\n",
    "$$f^{\\prime}(x^*) \\approx f^{\\prime}(x_i) + (x^* - x_i)f^{\\prime\\prime}(x_i) = 0$$\n",
    "\n",
    "We can approximate $f^{\\prime}$ by its tangent at $x_i$, and then approximate the root of $f^{\\prime}$ by the root of the tangent line:"
   ]
  },
  {
   "cell_type": "markdown",
   "metadata": {},
   "source": [
    "> ### Plotting with `matplotlib`\n",
    "> The illustrative diagram below shows how custom plotting can be implemented in `matplotlib`. Standard plots can be annotated with text and shapes, using the low-level API."
   ]
  },
  {
   "cell_type": "code",
   "execution_count": null,
   "metadata": {
    "collapsed": false
   },
   "outputs": [],
   "source": [
    "# some function\n",
    "func = lambda x: 3./(1 + 400*np.exp(-2*x)) - 1\n",
    "xvals = np.linspace(0, 6)\n",
    "plt.plot(xvals, func(xvals))\n",
    "plt.text(5.3, 2.1, '$f(x)$', fontsize=16)\n",
    "# zero line\n",
    "plt.plot([0,6], [0,0], 'k-')\n",
    "# value at step n\n",
    "plt.plot([4,4], [0,func(4)], 'k:')\n",
    "plt.text(4, -.2, '$x_n$', fontsize=16)\n",
    "# tangent line\n",
    "tanline = lambda x: -0.858 + 0.626*x\n",
    "plt.plot(xvals, tanline(xvals), 'r--')\n",
    "# point at step n+1\n",
    "xprime = 0.858/0.626\n",
    "plt.plot([xprime, xprime], [tanline(xprime), func(xprime)], 'k:')\n",
    "plt.text(xprime+.1, -.2, '$x_{n+1}$', fontsize=16)"
   ]
  },
  {
   "cell_type": "markdown",
   "metadata": {},
   "source": [
    "If we solve for $x^*$, this gives:\n",
    "\n",
    "$$x^* = x_i - \\frac{f'(x_i)}{f''(x_i)}$$\n",
    "\n",
    "This result is just another approximation, however, so this formula is iterated as:\n",
    "\n",
    "$$x_{i+1} = x_i - \\frac{f'(x_i)}{f''(x_i)}$$\n",
    "\n",
    "In the specific case of a MLE problem, this becomes:\n",
    "\n",
    "$$\\theta_{i+1} = \\theta_i - \\frac{l'(\\theta_i)}{l''(\\theta_i)}$$"
   ]
  },
  {
   "cell_type": "markdown",
   "metadata": {},
   "source": [
    "### Convergence\n",
    "\n",
    "Using Newton's algorithm, $x_i \\rightarrow x^*$ quickly, provided:\n",
    "\n",
    "1. $f'(x^*)=0$\n",
    "2. $f''(x^*)<0$\n",
    "3. $f''$ is *Lipschitz-continuous* in the neighborbood of $x^*$\n",
    "\n",
    "> Lipschitz continuous if there exists a $k$ such that:\n",
    ">\n",
    "> $|f''(x) - f''(y)| \\le k|x-y| \\, \\forall \\, x,y$\n",
    "\n",
    "The following implements Newton's method in Python:\n",
    "\n",
    "> ### Docstrings\n",
    "> An easy way to document functions and classes in Python is to include a **docstring**. Any string added directly following the declaration of the function or class is assumed to be documentation, and is reported when `help` is called on the object. Try it!"
   ]
  },
  {
   "cell_type": "code",
   "execution_count": null,
   "metadata": {
    "collapsed": false
   },
   "outputs": [],
   "source": [
    "def newt(f, f_prime, x0, tol=1e-9, max_iter=100, **kwargs):\n",
    "    \"\"\"\n",
    "    Newton-Raphson algorithm for solving f(x) == 0\n",
    "    \n",
    "    f: a function of a single variable, x\n",
    "    f_prime: a function that returns the derivative of f at x\n",
    "    x0: the initial guess at the fixed point\n",
    "    tol: minimum distance of consecutive guesses before algorithm stops\n",
    "    max_iter: maximum number of iterations to converge to tolerance before\n",
    "        algorithm stops\n",
    "    \"\"\"\n",
    "    \n",
    "    # Initialize\n",
    "    x = x0\n",
    "    fx, fpx = f(x, **kwargs), f_prime(x, **kwargs)\n",
    "    i = 0\n",
    "    \n",
    "    # Loop until conditions met\n",
    "    while (abs(fx) > tol) and (i < max_iter):\n",
    "        \n",
    "        x -= fx/fpx\n",
    "        fx, fpx = f(x), f_prime(x)\n",
    "        i += 1\n",
    "                \n",
    "    if abs(fx) > tol:\n",
    "        raise ConvergenceError('Algorithm failed to converge')\n",
    "\n",
    "    return x"
   ]
  },
  {
   "cell_type": "markdown",
   "metadata": {},
   "source": [
    "To apply the Newton-Raphson algorithm, we need a function that returns a vector containing the **first and second derivatives** of the function with respect to the variable of interest. We defined the first derivative above; the second derivative is as follows:"
   ]
  },
  {
   "cell_type": "code",
   "execution_count": null,
   "metadata": {
    "collapsed": false
   },
   "outputs": [],
   "source": [
    "from scipy.special import polygamma\n",
    "\n",
    "dl2gamma = lambda m, **kwargs: 1./m - polygamma(1, m)"
   ]
  },
  {
   "cell_type": "markdown",
   "metadata": {},
   "source": [
    "`polygamma` is a complex function of the digamma function that results when you take the nth derivative of that function. So, here `polygamma(1, m)` is the first derivative of the digamma, which is the second derivative of the original gamma."
   ]
  },
  {
   "cell_type": "code",
   "execution_count": null,
   "metadata": {
    "collapsed": false
   },
   "outputs": [],
   "source": [
    "# Alpha MLE for December\n",
    "alpha_mle = newt(dlgamma, dl2gamma, 2, month = 'Dec')\n",
    "alpha_mle"
   ]
  },
  {
   "cell_type": "markdown",
   "metadata": {},
   "source": [
    "And now plug this back into the solution for beta:\n",
    "\n",
    "<div style=\"font-size: 120%;\">  \n",
    "$$ \\beta  = \\frac{\\alpha}{\\bar{X}} $$\n",
    "</div>"
   ]
  },
  {
   "cell_type": "code",
   "execution_count": null,
   "metadata": {
    "collapsed": false
   },
   "outputs": [],
   "source": [
    "beta_mle = alpha_mle/precip.mean()[-1]\n",
    "beta_mle"
   ]
  },
  {
   "cell_type": "markdown",
   "metadata": {},
   "source": [
    "Newton's method is also available to us via SciPy:"
   ]
  },
  {
   "cell_type": "code",
   "execution_count": null,
   "metadata": {
    "collapsed": false
   },
   "outputs": [],
   "source": [
    "from scipy.optimize import newton"
   ]
  },
  {
   "cell_type": "markdown",
   "metadata": {},
   "source": [
    "For most common distributions, SciPy also includes methods for fitting via MLE:"
   ]
  },
  {
   "cell_type": "code",
   "execution_count": null,
   "metadata": {
    "collapsed": false
   },
   "outputs": [],
   "source": [
    "from scipy.stats import gamma\n",
    "\n",
    "gamma.fit(precip.Dec)"
   ]
  },
  {
   "cell_type": "markdown",
   "metadata": {},
   "source": [
    "This fit is not directly comparable to our estimates, however, because SciPy's `gamma.fit` method fits an odd 3-parameter version of the gamma distribution. If we set the location parameter to zero:"
   ]
  },
  {
   "cell_type": "code",
   "execution_count": null,
   "metadata": {
    "collapsed": false
   },
   "outputs": [],
   "source": [
    "scipy_params = gamma.fit(precip.Dec, floc=0.)\n",
    "scipy_params"
   ]
  },
  {
   "cell_type": "markdown",
   "metadata": {},
   "source": [
    "To complicate things further, SciPy's gamma distribution uses a parameterization that employs the inverse of beta for its scale parameter."
   ]
  },
  {
   "cell_type": "code",
   "execution_count": null,
   "metadata": {
    "collapsed": false
   },
   "outputs": [],
   "source": [
    "1./scipy_params[-1]"
   ]
  },
  {
   "cell_type": "markdown",
   "metadata": {},
   "source": [
    "### Example\n",
    "\n",
    "This animation illustrates how Newton's method estimates the minimum of a simple polynomial function, $2x^4 + 3x^3 + 3$.\n",
    "\n",
    "It requires the installation of Jake van der Plas' `JSAnimation` package:"
   ]
  },
  {
   "cell_type": "code",
   "execution_count": null,
   "metadata": {
    "collapsed": false
   },
   "outputs": [],
   "source": [
    "try:\n",
    "    from JSAnimation.IPython_display import display_animation\n",
    "except ImportError:\n",
    "    !pip install git+https://github.com/jakevdp/JSAnimation.git\n",
    "    from JSAnimation.IPython_display import display_animation\n",
    "    \n",
    "from matplotlib import animation"
   ]
  },
  {
   "cell_type": "markdown",
   "metadata": {},
   "source": [
    "First, we will need a few functions: here is the polynomial itself, along with the first two derivatives, which we will use to calculate the first two terms of the Taylor series:"
   ]
  },
  {
   "cell_type": "code",
   "execution_count": null,
   "metadata": {
    "collapsed": true
   },
   "outputs": [],
   "source": [
    "f = lambda x: 2 * x**4 + 3 * x**3 + 3 \n",
    "\n",
    "df = lambda x: 8 * x**3 + 9 * x**2\n",
    "\n",
    "ddf = lambda x: 24 * x**2 + 18*x\n",
    "\n",
    "taylorf = lambda x, dx: f(x) + df(x) * dx + 0.5 * ddf(x) * dx**2"
   ]
  },
  {
   "cell_type": "markdown",
   "metadata": {},
   "source": [
    "The following is a special type of function called a **generator**. Rather than simply return a value, it returns a generator object that returns the next value in a series of calculated values as they are needed, using the `yield` statement in place of `return`. \n",
    "\n",
    "Here we use a generator to implement Newton's method.\n",
    "\n",
    "> ### global variables\n",
    "> The `global` clause declares a variable inside a code block to be available in enclosing scopes. They should be used sparingly!"
   ]
  },
  {
   "cell_type": "code",
   "execution_count": null,
   "metadata": {
    "collapsed": true
   },
   "outputs": [],
   "source": [
    "def generator():\n",
    "    global x\n",
    "    while True:\n",
    "        yield x\n",
    "        delta = df(x) / float(ddf(x))\n",
    "        if abs(delta) < 1e-10:\n",
    "            return\n",
    "        x = x - df(x) / float(ddf(x))\n",
    "        yield x"
   ]
  },
  {
   "cell_type": "markdown",
   "metadata": {},
   "source": [
    "This function will update the locations and text of animated objects"
   ]
  },
  {
   "cell_type": "code",
   "execution_count": null,
   "metadata": {
    "collapsed": true
   },
   "outputs": [],
   "source": [
    "def update(ignore): #uses global variable x\n",
    "    global x\n",
    "    taylorCurve.set_data(x+dxs, taylorf(x,dxs))\n",
    "    spot.set_data(x,f(x))\n",
    "    dashedLine.set_data((x,x), (y0,y1))\n",
    "    text.set_x(x + 0.1)\n",
    "    text.set_text(str(np.round(x, 3)))\n",
    "    return (taylorCurve, spot, dashedLine, text)"
   ]
  },
  {
   "cell_type": "markdown",
   "metadata": {},
   "source": [
    "Let's aribitrarily initialize the value of the minimum:"
   ]
  },
  {
   "cell_type": "code",
   "execution_count": null,
   "metadata": {
    "collapsed": true
   },
   "outputs": [],
   "source": [
    "x = 1.5 "
   ]
  },
  {
   "cell_type": "markdown",
   "metadata": {},
   "source": [
    "Finally, we set up the plot and animate it:"
   ]
  },
  {
   "cell_type": "code",
   "execution_count": null,
   "metadata": {
    "collapsed": false
   },
   "outputs": [],
   "source": [
    "# Initialize the figure and draw f(x)\n",
    "fig, ax = plt.subplots(figsize=(8,6))\n",
    "x_range = np.linspace(-3, 2)\n",
    "ax.plot(x_range,f(x_range))\n",
    "\n",
    "# Draw and save in global variables the Taylor approximation\n",
    "dxs = np.linspace(-0.5, 0.5, num=100)                  \n",
    "taylorCurve = ax.plot(x+dxs, taylorf(x,dxs), 'g-', linewidth=5, alpha=0.4)[0]\n",
    "spot = ax.plot(x,f(x),'go')[0]         \n",
    "y0,y1 = plt.ylim()\n",
    "dashedLine = ax.plot([x,x],[y0,y1],'r--')[0]\n",
    "text = ax.text(x, (y0+y1)*0.5, str(x), color='r')\n",
    "ax.legend((r'$f(x)$', r'$\\hat{f(x)}$'), fontsize='medium')\n",
    "  \n",
    "anim = animation.FuncAnimation(fig, update, generator)\n",
    "display_animation(anim, default_mode='once')"
   ]
  },
  {
   "cell_type": "markdown",
   "metadata": {},
   "source": [
    "## Multivariate Optimization\n",
    "\n",
    "We may wish to find the maximum of a function of several variables:\n",
    "\n",
    "$$f:\\mathbf{R}^k \\rightarrow \\mathbf{R}$$\n",
    "\n",
    "Assume:\n",
    "\n",
    "* first- and second-order partial derivatives exist, and are everywhere continuous.\n",
    "\n",
    "$$\\begin{align}\n",
    "\\mathbf{x} &= (x_1, x_2, \\ldots, x_k) \\cr\n",
    "&= x_1 \\mathbf{e}_1 + x_2 \\mathbf{e}_2, + \\ldots + x_k \\mathbf{e}_k\n",
    "\\end{align}$$\n",
    "\n",
    "where $\\mathbf{e}_i$ is the coordinate vector of element $i$.\n",
    "\n",
    "Denote the $i$th partial derivative with respect to $x_i$ as $f_i(x)=\\frac{\\partial f(\\mathbf{x})}{\\partial x_i}$.\n",
    "\n",
    "And we define the *gradient*:\n",
    "\n",
    "$$\\nabla f(\\mathbf{x}) = (f_1(\\mathbf{x}), \\ldots, f_k(\\mathbf{x}))'$$\n",
    "\n",
    "And the *hessian*:\n",
    "\n",
    "$$H(\\mathbf{x})  = \\left(\n",
    "\\begin{array}{c}\n",
    "  \\frac{\\partial^2 f(\\mathbf{x})}{\\partial x_1 \\partial x_1} & \\cdots & \\frac{\\partial^2 f(\\mathbf{x})}{\\partial x_1 \\partial x_k}  \\cr\n",
    "  \\vdots & \\ddots & \\vdots \\cr\n",
    "  \\frac{\\partial^2 f(\\mathbf{x})}{\\partial x_k \\partial x_1} & \\cdots & \\frac{\\partial^2 f(\\mathbf{x})}{\\partial x_k \\partial x_k}\n",
    "\\end{array}\\right)$$"
   ]
  },
  {
   "cell_type": "markdown",
   "metadata": {},
   "source": [
    "### Curvature\n",
    "\n",
    "For any vector other than $\\mathbf{0}$, the *slope* at $\\mathbf{x}$ in direction $\\mathbf{v}$ is given by:\n",
    "\n",
    "$$\\frac{\\mathbf{v}' \\nabla f(\\mathbf{x})}{||\\mathbf{v}||}$$\n",
    "\n",
    "where $||\\mathbf{v}||$ is the *euclidean norm* of $\\mathbf{v}$.\n",
    "\n",
    "$$||\\mathbf{v}|| = \\sqrt{v_1^2 + \\ldots + v_k^2} = \\sqrt{\\mathbf{v} \\cdot \\mathbf{v}}$$\n",
    "\n",
    "The *curvature* at point $\\mathbf{x}$ is:\n",
    "\n",
    "$$\\frac{\\mathbf{v}' H(\\mathbf{x}) \\mathbf{v}}{||\\mathbf{v}||^2}$$\n"
   ]
  },
  {
   "cell_type": "markdown",
   "metadata": {},
   "source": [
    "$f$ has a local maximum if, for all $i=1,\\ldots,k$ and sufficiently small $\\epsilon$:\n",
    "\n",
    "$$f(\\mathbf{x} + \\epsilon \\mathbf{e}_i) \\le f(\\mathbf{x})$$\n",
    "\n",
    "provided that:\n",
    "\n",
    "$$\\nabla f(\\mathbf{x}) = \\mathbf{0} = (0,\\ldots,0)'$$\n",
    "\n",
    "and the slope at $x$ in direction $v$ is $\\le 0$ (*necessary* condition). This implies that the Hessian is negative semi-definite.\n",
    "\n",
    "A *sufficient* condition is that the slope $v$ is $\\lt 0$ (negative definite Hessian).\n",
    "\n",
    "***How do we find the maximum?***"
   ]
  },
  {
   "cell_type": "markdown",
   "metadata": {},
   "source": [
    "### Steepest Ascent/Descent\n",
    "\n",
    "The steepest ascent (descent) method is a iterative search algorithm. For a function $f:\\mathbf{R}^k \\rightarrow \\mathbf{R}$ with continuous partial derivatives, we iterate via:\n",
    "\n",
    "$$\\mathbf{x}_{i+1} = \\mathbf{x}_i + \\alpha \\mathbf{v}_{i}^*$$\n",
    "\n",
    "where:\n",
    "\n",
    "* $\\alpha$ = positive scalar step size\n",
    "* $\\mathbf{v}_{i}^*$ = direction of largest slope at position $i$\n",
    "\n",
    "$$\\mathbf{v}_{i}^* = \\text{argmax}_{\\mathbf{v}} \\frac{\\mathbf{v}' \\nabla f(\\mathbf{x}_i)}{||\\mathbf{v}||}$$\n",
    "\n",
    "Questions:\n",
    "\n",
    "1. How do we find this direction?\n",
    "2. How big of a step do we take?"
   ]
  },
  {
   "cell_type": "markdown",
   "metadata": {},
   "source": [
    "We need to maximize the slope, so consider the partial derivative with respect to $v_i$:\n",
    "\n",
    "$$\\frac{\\partial}{\\partial v_j} \\frac{\\mathbf{v}' \\nabla f(\\mathbf{x})}{||\\mathbf{v}||} = \\frac{f_j(\\mathbf{x})}{||\\mathbf{v}||} - \\frac{(\\mathbf{v}' \\nabla f(\\mathbf{x}))v_j}{||\\mathbf{v}||^3}$$\n",
    "\n",
    "Setting this equal to zero, we end up with:\n",
    "\n",
    "$$v_j \\propto f_j(\\mathbf{x})$$\n",
    "\n",
    "which implies that at point $\\mathbf{x}$, the direction with the largest slope is $\\nabla f(\\mathbf{x})$. So, steepest ascent is:\n",
    "\n",
    "$$\\mathbf{x}_{x+1} = \\mathbf{x}_i + \\alpha \\nabla f(\\mathbf{x}_i)$$"
   ]
  },
  {
   "cell_type": "markdown",
   "metadata": {},
   "source": [
    "What is the appropriate step size $\\alpha$?\n",
    "\n",
    "* too large, and we risk over-shooting the maximum\n",
    "* too small, and the search is inefficient\n",
    "\n",
    "We want to choose $\\alpha$ to maximize:\n",
    "\n",
    "$$g(\\alpha) = f(\\mathbf{x}_i + \\alpha \\nabla f(\\mathbf{x}_i))$$\n",
    "\n",
    "We already know how to optimize univariate functions!"
   ]
  },
  {
   "cell_type": "markdown",
   "metadata": {},
   "source": [
    "Stopping conditions may include:\n",
    "\n",
    "* $||\\mathbf{x}_i - \\mathbf{x}_{i-1}|| \\le \\epsilon$\n",
    "* $|f(\\mathbf{x}_i) - f(\\mathbf{x}_{i-1})| \\le \\epsilon$\n",
    "* $||\\nabla f(\\mathbf{x}_i)|| \\le \\epsilon$\n",
    "\n",
    "for some small tolerance value $\\epsilon$."
   ]
  },
  {
   "cell_type": "markdown",
   "metadata": {},
   "source": [
    "### Pseudocode\n",
    "\n",
    "Putting it all together, our steepest ascent algorithm should look something like this:\n",
    "\n",
    "1. Initialize $\\mathbf{x}_0$ and $\\mathbf{x}_1$\n",
    "2. Initialize counter $i=1$\n",
    "3. While $f(\\mathbf{x}_i) - f(\\mathbf{x}_{i-1}) \\gt \\epsilon$:\n",
    "\n",
    "    * $\\mathbf{x}_{i-1} \\leftarrow \\mathbf{x}_i$\n",
    "    * Find optimal step size\n",
    "    * Calculate new $\\mathbf{x}_i = \\mathbf{x}_{i-1} + \\alpha \\nabla f(\\mathbf{x}_{i-1})$\n",
    "    * Increment $i$"
   ]
  },
  {
   "cell_type": "markdown",
   "metadata": {},
   "source": [
    "The function below implements gradient descent in Python, again using a **generator**.\n",
    "\n",
    "> ### NumPy's class instances\n",
    "> You may notice the strange `r_` syntax below. This is not a function (notice the square brackets), though it behaves as one. `r_` is a **class instance** that is used to concatenate sequences in a Matlab-like syntax. When indexing using square brackets is used, it calls a `__getitem__` method associated with that class. In this case, `__getitem__` concatenates the values passed, rather than using them as indices. \n",
    "> In other words ... this is a HACK."
   ]
  },
  {
   "cell_type": "code",
   "execution_count": null,
   "metadata": {
    "collapsed": true
   },
   "outputs": [],
   "source": [
    "from scipy import optimize\n",
    "\n",
    "def gradient_descent(init_loc, f, f_prime, step=None):\n",
    "    \n",
    "    x_i, y_i = init_loc\n",
    "\n",
    "    for i in range(1, 100):\n",
    "        fxy = (f([x_i, y_i]))\n",
    "        dx_i, dy_i = f_prime(np.asarray([x_i, y_i]))\n",
    "        if step is None:\n",
    "            # Compute a step size using a line_search\n",
    "            step = optimize.line_search(f, f_prime,\n",
    "                                np.r_[x_i, y_i], -np.r_[dx_i, dy_i],\n",
    "                                np.r_[dx_i, dy_i], c2=.05)\n",
    "            step = step[0]\n",
    "            \n",
    "        x_i += -step*dx_i\n",
    "        y_i += -step*dy_i\n",
    "        \n",
    "    return x_i, y_i, fxy"
   ]
  },
  {
   "cell_type": "markdown",
   "metadata": {},
   "source": [
    "As a simple example, we can use gradient descent to find the peak of a quadratic function, with varying conditioning.\n",
    "\n",
    "> ### Nested functions\n",
    "> Below is a function that returns two functions. Previously we saw that functions can be passed as arguments to other functions; so too can they be created and returned by other functions. Here, we are doing this because the functions need to be parameterized before they are used. "
   ]
  },
  {
   "cell_type": "code",
   "execution_count": null,
   "metadata": {
    "collapsed": false
   },
   "outputs": [],
   "source": [
    "def quad(epsilon, ndim=2):\n",
    "    \n",
    "    def f(x):\n",
    "        y = np.array(x)*np.power(epsilon, np.arange(ndim))\n",
    "        return .33*np.sum(y**2)\n",
    "\n",
    "    def f_prime(x):\n",
    "        scaling = np.power(epsilon, np.arange(ndim))\n",
    "        y = np.array(x)*scaling\n",
    "        return .33*2*scaling*y\n",
    "\n",
    "    return f, f_prime"
   ]
  },
  {
   "cell_type": "markdown",
   "metadata": {},
   "source": [
    "We specify an initial guess at the minimum, and run our gradient descent algorithm:"
   ]
  },
  {
   "cell_type": "code",
   "execution_count": null,
   "metadata": {
    "collapsed": true
   },
   "outputs": [],
   "source": [
    "x0, y0 = 1.6, 1.1\n",
    "f, f_prime = quad(0.8)"
   ]
  },
  {
   "cell_type": "code",
   "execution_count": null,
   "metadata": {
    "collapsed": false
   },
   "outputs": [],
   "source": [
    "xvals = np.linspace(-3, 3)\n",
    "yvals = np.linspace(-3, 3)\n",
    "plt.contour(xvals, yvals, np.array([[f((x,y)) for x in xvals] for y in yvals]))"
   ]
  },
  {
   "cell_type": "code",
   "execution_count": null,
   "metadata": {
    "collapsed": false
   },
   "outputs": [],
   "source": [
    "gradient_descent([x0, y0], f, f_prime)"
   ]
  },
  {
   "cell_type": "markdown",
   "metadata": {},
   "source": [
    "### Exercise\n",
    "\n",
    "Modify the gradient descent function to store the values generated at each step of the optimization, and provide suitable conditions for stopping, rather than arbitrarily iterating for 100 steps. The function should return a table (call it `gd_output`) of values for x, y, and f((x,y))."
   ]
  },
  {
   "cell_type": "code",
   "execution_count": null,
   "metadata": {
    "collapsed": false
   },
   "outputs": [],
   "source": [
    "## Write your answer here"
   ]
  },
  {
   "cell_type": "code",
   "execution_count": null,
   "metadata": {
    "collapsed": false
   },
   "outputs": [],
   "source": [
    "def plot_opt(output, f):\n",
    "    \n",
    "    all_x_i, all_y_i, all_f_i = output.T\n",
    "    \n",
    "    x_min, x_max = -1, 2\n",
    "    y_min, y_max = 2.25/3*x_min - .2, 2.25/3*x_max - .2\n",
    "    \n",
    "    levels = dict()\n",
    "    \n",
    "    # A formatter to print values on contours\n",
    "    def super_fmt(value):\n",
    "        if value > 1:\n",
    "            if np.abs(int(value) - value) < .1:\n",
    "                out = '$10^{%.1i}$' % value\n",
    "            else:\n",
    "                out = '$10^{%.1f}$' % value\n",
    "        else:\n",
    "            value = np.exp(value - .01)\n",
    "            if value > .1:\n",
    "                out = '%1.1f' % value\n",
    "            elif value > .01:\n",
    "                out = '%.2f' % value\n",
    "            else:\n",
    "                out = '%.2e' % value\n",
    "        return out\n",
    "    \n",
    "    # Plot the contour plot\n",
    "    if not max(all_y_i) < y_max:\n",
    "        x_min *= 1.2\n",
    "        x_max *= 1.2\n",
    "        y_min *= 1.2\n",
    "        y_max *= 1.2\n",
    "    x, y = np.mgrid[x_min:x_max:100j, y_min:y_max:100j]\n",
    "    x = x.T\n",
    "    y = y.T\n",
    "    \n",
    "    X = np.concatenate((x[np.newaxis, ...], y[np.newaxis, ...]), axis=0)\n",
    "    z = np.apply_along_axis(f, 0, X)\n",
    "    log_z = np.log(z + .01)\n",
    "    plt.imshow(log_z,\n",
    "            extent=[x_min, x_max, y_min, y_max],\n",
    "            cmap=plt.cm.gray_r, origin='lower',\n",
    "            vmax=log_z.min() + 1.5*log_z.ptp())\n",
    "    contours = plt.contour(log_z,\n",
    "                        levels=levels.get(f, None),\n",
    "                        extent=[x_min, x_max, y_min, y_max],\n",
    "                        cmap=plt.cm.gnuplot, origin='lower')\n",
    "    levels[f] = contours.levels\n",
    "    plt.clabel(contours, inline=1,\n",
    "                fmt=super_fmt, fontsize=14)\n",
    "    \n",
    "    plt.plot(all_x_i, all_y_i, 'b-', linewidth=2)\n",
    "    plt.plot(all_x_i, all_y_i, 'k+')\n",
    "    \n",
    "    plt.plot([0], [0], 'rx', markersize=12)\n",
    "    \n",
    "    \n",
    "    plt.xticks(())\n",
    "    plt.yticks(())\n",
    "    plt.xlim(x_min, x_max)\n",
    "    plt.ylim(y_min, y_max)"
   ]
  },
  {
   "cell_type": "code",
   "execution_count": null,
   "metadata": {
    "collapsed": false
   },
   "outputs": [],
   "source": [
    "plot_opt(np.array(gd_output), f)"
   ]
  },
  {
   "cell_type": "markdown",
   "metadata": {},
   "source": [
    "### Nelder-Mead Algorithm\n",
    "\n",
    "While there are a variety of gradient-based mutlivariate optimization methods at our disposal, for many problems of interest, first and second derivatives may not be available. The **Nelder-Mead simplex algorithm** is an alternative approach that uses direct search instead of gradient ascent. It has a couple of advantages: \n",
    "\n",
    "- it does not require derivatives\n",
    "- it can optimize (minimize) a vector of parameters\n",
    "\n",
    "It works by refining a simplex, the generalization of intervals and triangles to high-dimensional spaces, to bracket the minimum.\n",
    "\n",
    "Since it is not based on gradients, Nelder-Mead is robust when the target function is not smooth, though it is slower for smooth functions."
   ]
  },
  {
   "cell_type": "code",
   "execution_count": null,
   "metadata": {
    "collapsed": false
   },
   "outputs": [],
   "source": [
    "def rosenbrock(x):\n",
    "    y = 4*x\n",
    "    y[0] += 1\n",
    "    y[1:] += 3\n",
    "    return np.sum(.5*(1 - y[:-1])**2 + (y[1:] - y[:-1]**2)**2)"
   ]
  },
  {
   "cell_type": "markdown",
   "metadata": {},
   "source": [
    "SciPy's `fmin` function implements Nelder-Mead.\n",
    "\n",
    "> ### Callbacks\n",
    "> Several of SciPy's optimization algorithms implement **callbacks**. A callback is a function that is passed as an argument to another function, which is expected to call back (execute) the argument at some convenient time. Here, this allows us to keep track of intermediate values in the optimization."
   ]
  },
  {
   "cell_type": "code",
   "execution_count": null,
   "metadata": {
    "collapsed": false
   },
   "outputs": [],
   "source": [
    "from scipy import optimize\n",
    "\n",
    "def nelder_mead(f, x0):\n",
    "    output = []\n",
    "    \n",
    "    def store(X):\n",
    "        output.append([X[0], X[1], f(X)])\n",
    "        \n",
    "    optimize.fmin(f, x0, callback=store, ftol=1e-12)\n",
    "    \n",
    "    return np.array(output)"
   ]
  },
  {
   "cell_type": "code",
   "execution_count": null,
   "metadata": {
    "collapsed": false
   },
   "outputs": [],
   "source": [
    "nm_output = nelder_mead(rosenbrock, np.array([x0, y0]))"
   ]
  },
  {
   "cell_type": "code",
   "execution_count": null,
   "metadata": {
    "collapsed": false
   },
   "outputs": [],
   "source": [
    "plot_opt(nm_output, rosenbrock)"
   ]
  },
  {
   "cell_type": "markdown",
   "metadata": {},
   "source": [
    "### Example: truncated distribution\n",
    "\n",
    "Suppose that we observe $Y$ truncated below at $a$ (where $a$ is known). If $X$ is the distribution of our observation, then:\n",
    "\n",
    "$$ P(X \\le x) = P(Y \\le x|Y \\gt a) = \\frac{P(a \\lt Y \\le x)}{P(Y \\gt a)}$$\n",
    "\n",
    "(so, $Y$ is the original variable and $X$ is the truncated variable) \n",
    "\n",
    "Then X has the density:\n",
    "\n",
    "$$f_X(x) = \\frac{f_Y (x)}{1−F_Y (a)} \\, \\text{for} \\, x \\gt a$$ \n",
    "\n",
    "Suppose $Y \\sim N(\\mu, \\sigma^2)$ and $x_1,\\ldots,x_n$ are independent observations of $X$. We can use maximum likelihood to find $\\mu$ and $\\sigma$. "
   ]
  },
  {
   "cell_type": "markdown",
   "metadata": {},
   "source": [
    "First, we can simulate a truncated distribution using a `while` statement to eliminate samples that are outside the support of the truncated distribution."
   ]
  },
  {
   "cell_type": "code",
   "execution_count": null,
   "metadata": {
    "collapsed": false
   },
   "outputs": [],
   "source": [
    "x = np.random.normal(size=10000)\n",
    "a = -1\n",
    "x_small = x < a\n",
    "while x_small.sum():\n",
    "    x[x_small] = np.random.normal(size=x_small.sum())\n",
    "    x_small = x < a\n",
    "    \n",
    "sns.distplot(x, kde=False)"
   ]
  },
  {
   "cell_type": "markdown",
   "metadata": {},
   "source": [
    "We can construct a log likelihood for this function using the conditional form:\n",
    "\n",
    "$$f_X(x) = \\frac{f_Y (x)}{1−F_Y (a)} \\, \\text{for} \\, x \\gt a$$ "
   ]
  },
  {
   "cell_type": "code",
   "execution_count": null,
   "metadata": {
    "collapsed": false
   },
   "outputs": [],
   "source": [
    "from scipy.stats.distributions import norm\n",
    "\n",
    "trunc_norm = lambda theta, a, x: -(np.log(norm.pdf(x, theta[0], theta[1])) - \n",
    "            np.log(1 - norm.cdf(a, theta[0], theta[1]))).sum()"
   ]
  },
  {
   "cell_type": "code",
   "execution_count": null,
   "metadata": {
    "collapsed": false
   },
   "outputs": [],
   "source": [
    "optimize.fmin(trunc_norm, np.array([1,2]), args=(-1, x))"
   ]
  },
  {
   "cell_type": "markdown",
   "metadata": {},
   "source": [
    "In general, simulating data is a terrific way of testing your model before using it with real data."
   ]
  },
  {
   "cell_type": "markdown",
   "metadata": {},
   "source": [
    "## References\n",
    "\n",
    "Chapter 2 of [Givens, Geof H.; Hoeting, Jennifer A. (2012-10-09). Computational Statistics (Wiley Series in Computational Statistics)](http://www.stat.colostate.edu/computationalstatistics/)\n",
    "\n",
    "[Python Scientific Lecture Notes](http://scipy-lectures.github.io)"
   ]
  }
 ],
 "metadata": {
  "anaconda-cloud": {},
  "kernelspec": {
   "display_name": "Python [default]",
   "language": "python",
   "name": "python3"
  },
  "language_info": {
   "codemirror_mode": {
    "name": "ipython",
    "version": 3
   },
   "file_extension": ".py",
   "mimetype": "text/x-python",
   "name": "python",
   "nbconvert_exporter": "python",
   "pygments_lexer": "ipython3",
   "version": "3.5.2"
  },
  "nav_menu": {},
  "toc": {
   "navigate_menu": true,
   "number_sections": false,
   "sideBar": true,
   "threshold": 6,
   "toc_cell": false,
   "toc_section_display": "block",
   "toc_window_display": false
  }
 },
 "nbformat": 4,
 "nbformat_minor": 1
}
