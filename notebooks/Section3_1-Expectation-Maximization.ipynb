{
 "cells": [
  {
   "cell_type": "markdown",
   "metadata": {
    "toc": "true"
   },
   "source": [
    "# Table of Contents\n",
    " <p><div class=\"lev1\"><a href=\"#Expectation-Maximization-Algorithm\"><span class=\"toc-item-num\">1&nbsp;&nbsp;</span>Expectation Maximization Algorithm</a></div><div class=\"lev3\"><a href=\"#Example:-Mixture-of-normals\"><span class=\"toc-item-num\">1.0.1&nbsp;&nbsp;</span>Example: Mixture of normals</a></div><div class=\"lev3\"><a href=\"#Algorithm\"><span class=\"toc-item-num\">1.0.2&nbsp;&nbsp;</span>Algorithm</a></div><div class=\"lev3\"><a href=\"#General-formulation\"><span class=\"toc-item-num\">1.0.3&nbsp;&nbsp;</span>General formulation</a></div><div class=\"lev3\"><a href=\"#Exercise:-Zero-inflated-data\"><span class=\"toc-item-num\">1.0.4&nbsp;&nbsp;</span>Exercise: Zero-inflated data</a></div><div class=\"lev3\"><a href=\"#Example:-Peppered-moth-genotype-frequencies\"><span class=\"toc-item-num\">1.0.5&nbsp;&nbsp;</span>Example: Peppered moth genotype frequencies</a></div><div class=\"lev3\"><a href=\"#Exercise:-E-step\"><span class=\"toc-item-num\">1.0.6&nbsp;&nbsp;</span>Exercise: E-step</a></div><div class=\"lev3\"><a href=\"#Exercise:-M-step\"><span class=\"toc-item-num\">1.0.7&nbsp;&nbsp;</span>Exercise: M-step</a></div><div class=\"lev3\"><a href=\"#Exercise:-Estimate-allele-frequencies\"><span class=\"toc-item-num\">1.0.8&nbsp;&nbsp;</span>Exercise: Estimate allele frequencies</a></div><div class=\"lev2\"><a href=\"#Convergence\"><span class=\"toc-item-num\">1.1&nbsp;&nbsp;</span>Convergence</a></div><div class=\"lev3\"><a href=\"#Order-of-convergence\"><span class=\"toc-item-num\">1.1.1&nbsp;&nbsp;</span>Order of convergence</a></div><div class=\"lev3\"><a href=\"#Exercise:-Monitoring-convergence\"><span class=\"toc-item-num\">1.1.2&nbsp;&nbsp;</span>Exercise: Monitoring convergence</a></div><div class=\"lev1\"><a href=\"#References\"><span class=\"toc-item-num\">2&nbsp;&nbsp;</span>References</a></div>"
   ]
  },
  {
   "cell_type": "markdown",
   "metadata": {},
   "source": [
    "# Expectation Maximization Algorithm"
   ]
  },
  {
   "cell_type": "markdown",
   "metadata": {},
   "source": [
    "Expectation maximization (EM, Dempster et al. 1977) uses iterative optimization along with a latent variable model to obtain maximum likelihood estimates for models whose parameters are difficult to estimate directly. The algorithm was motivated by missing data imputation. However, the missing values may be deliberately introduced to the problem, as a conceptual ploy that simplifies the obtaining of a solution.\n",
    "\n",
    "It may not be intuitive how introducing latent (missing) elements to a problem will facilitate its solution, but it works essentially by breaking the optimization into two steps:\n",
    "\n",
    "1. generating an **expectation** over the missing variable(s) based on current estimates of parameters\n",
    "2. **maximizing** the log-likelihood from the expectation step, thereby generating updated estimates of parameters\n",
    "\n",
    "EM is particularly suited to estimating the parameters of *mixture models*, where we do not know from which component each observation is derived."
   ]
  },
  {
   "cell_type": "markdown",
   "metadata": {},
   "source": [
    "In general, suppose we have observed quantities $x = x_1,\\ldots,x_n$ and unobserved (latent) quantities $z = z_1,\\ldots,z_m$ that are derived from some joint model:\n",
    "\n",
    "$$y = (x,z) \\sim P(x,z|\\theta)$$\n",
    "\n",
    "We are interested in obtaining the MLE for the marginal distribution of $X$:\n",
    "\n",
    "$$x \\sim P(x|\\theta)$$\n",
    "\n",
    "However, it is difficult to marginalize over $Z$ and maximize. EM gets around this by iteratively improving an initial estimate $\\theta^{(0)}$."
   ]
  },
  {
   "cell_type": "markdown",
   "metadata": {},
   "source": [
    "### Example: Mixture of normals\n",
    "\n",
    "Consider a set of observations, each of which has been drawn from one of two populations:\n",
    "\n",
    "$$x^{(a)} \\sim N(\\mu_a, \\sigma^2_a)$$\n",
    "$$x^{(b)} \\sim N(\\mu_b, \\sigma^2_b)$$\n",
    "\n",
    "except we only observe the values for $x = [x^{(a)}, x^{(b)}]$, not the labels which identify which population they are derived from."
   ]
  },
  {
   "cell_type": "code",
   "execution_count": 1,
   "metadata": {
    "collapsed": false
   },
   "outputs": [
    {
     "data": {
      "image/png": "[encoded data removed]",
      "text/plain": [
       "<matplotlib.figure.Figure at 0x42c1be0>"
      ]
     },
     "metadata": {},
     "output_type": "display_data"
    }
   ],
   "source": [
    "%matplotlib inline\n",
    "import numpy as np\n",
    "import matplotlib.pyplot as plt\n",
    "\n",
    "np.random.seed(77)\n",
    "\n",
    "# True parameter values\n",
    "mu_true = np.array([2, 5])\n",
    "sigma_true = np.array([0.5, 1])\n",
    "psi_true = .6\n",
    "n = 100\n",
    "\n",
    "# Simulate from each distribution according to mixing proportion psi\n",
    "z = np.random.binomial(1, psi_true, n)\n",
    "x = np.random.normal(mu_true[z], sigma_true[z])\n",
    "\n",
    "_ = plt.hist(x, bins=20)"
   ]
  },
  {
   "cell_type": "markdown",
   "metadata": {},
   "source": [
    "The observed data is then a finite mixture of normal distributions:\n",
    "\n",
    "$$X = (1 - \\psi)X^{(a)} + \\psi X^{(b)}$$\n",
    "\n",
    "This is a generative representation of the data, whereby unobserved labels $z_i$ are generated according to probability $\\psi$. We might try to maximize the log likelihood of the joint distribution above, via maximum likelihood:\n",
    "\n",
    "$$l(\\theta) = \\sum_i \\log\\left[(1 - \\psi)\\phi^{(a)}(x_i) + \\psi \\phi^{(b)}(x_i)\\right] $$\n",
    "\n",
    "$$\\text{where } \\theta = \\{\\psi, \\mu^{(a)}, \\sigma^{(a)}, \\mu^{(b)}, \\sigma^{(b)}\\}$$\n",
    "\n",
    "However, this function is very difficult to maximize, and turns out to be bimodal. A simpler approach is to consider the data labels to be unobserved data, and incorporate them into the model. This is generally called a *data augmentation* approach."
   ]
  },
  {
   "cell_type": "markdown",
   "metadata": {},
   "source": [
    "The joint distribution of $x$ and $z$ can be factorized into:\n",
    "\n",
    "$$P(x_i,z_i) = P(x_i \\,|\\, z_i)P(z_i)$$\n",
    "\n",
    "It is reasonable to model $z$ as:\n",
    "\n",
    "$$\\{z_i\\} \\sim \\text{Bernoulli}(\\psi)$$\n",
    "\n",
    "where $\\psi$ is the probability of membership in group \"b\" (hence, $1-\\psi$ is the probability of group \"a\" membership). Note that this generalizes to $k$ components in the mixture, where $z_i \\sim \\text{Multinomial}(\\psi)$ with $\\psi$ of dimension $k-1$.\n",
    "\n",
    "Clearly, the distribution of $x$ conditional on $z$ is:\n",
    "\n",
    "$$(x_i | z_i = j) \\sim N(\\mu_j, \\sigma_j)$$\n",
    "\n",
    "If we knew the $\\{z_i\\}$, then we could simply use MLE to obtain estimates for the paramters of the model. However, we do not know the labels, which makes this a form of **unsupervised learning**."
   ]
  },
  {
   "cell_type": "markdown",
   "metadata": {},
   "source": [
    "### Algorithm\n",
    "\n",
    "Continuing with the mixture of normals model as our example, we can apply the EM algorithm to estimate $\\theta = \\{\\mu, \\sigma, \\psi\\}$.\n",
    "\n",
    "> **Initiazlize** $\\theta_0 = \\{\\mu_0, \\sigma_0, \\psi_0\\}$\n",
    "> \n",
    "> **Repeat until convergence:**\n",
    "> \n",
    "> - **E-step**: guess the values of $\\{z_i\\}$\n",
    "> \n",
    ">     Compute probabilities of group membership: $w_{ij} = P(z_i = j | x_i, \\theta)$ for each group $j=1,\\ldots,k$. This is done via Bayes' formula:\n",
    ">     \n",
    ">     $$w_{ij} = P(z_i = j | x_i) = \\frac{P(x_i | z_i=j) P(z_i=j)}{\\sum_{l=1}^k P(x_i | z_i=l) P(z_i=l)}$$\n",
    ">     \n",
    ">     $\\theta$ has been dropped for notational convenience.\n",
    ">     \n",
    "> - **M-step**: update estimates of parameters $\\theta$\n",
    "> \n",
    ">     $$\\begin{aligned}\\psi_j &= \\frac{1}{m} \\sum_i w_{ij} \\\\\n",
    "       \\mu_j &= \\frac{\\sum_i w_{ij} x_i}{\\sum_i w_{ij}} \\\\\n",
    "       \\sigma_j &= \\frac{\\sum_i w_{ij}(x_i - \\mu_j)^2}{\\sum_i w_{ij}}\n",
    "     \\end{aligned}$$"
   ]
  },
  {
   "cell_type": "markdown",
   "metadata": {},
   "source": [
    "### General formulation\n",
    "\n",
    "Recall [**Jensen's inequality**](http://mathworld.wolfram.com/JensensInequality.html):\n",
    "\n",
    "> Let $f$ be a convex function (*i.e.* $f^{\\prime\\prime} \\ge 0$) of a random variable X. Then:\n",
    "> $f(E[X]) \\le E[f(X)]$\n",
    "\n",
    "And when $f$ is *strictly* convex, then:\n",
    "\n",
    "$$E[f(X)] = f(E[X]) \\iff X = E[X]$$\n",
    "\n",
    "with probability 1.\n",
    "\n",
    "Consider again the joint density $P(x,z|\\theta)$, where only $x$ is observed. We want to be able to maximize:\n",
    "\n",
    "$$\\begin{aligned}\n",
    "l(x \\,|\\, \\theta) &= \\sum_i \\log P(x_i \\,|\\, \\theta) \\\\\n",
    "&= \\sum_i \\log \\sum_{z_i} P(x_i, z_i \\,|\\, \\theta)\n",
    "\\end{aligned}$$\n",
    "\n",
    "however, evaluating this is difficult when the $\\{z_i\\}$ are unobserved.\n",
    "\n",
    "The EM algorithm iteratively calculates *lower bounds on the likelihood* for the current values of the parameters, then *maximizes the lower bound* to update the parameters.\n",
    "\n",
    "Since $z_i$ is a random variable, perhaps we can construct its density $Q_i$ and use it to marginalize the joint likelihood:\n",
    "\n",
    "$$\\sum_i \\log \\sum_{z_i} P(x_i, z_i \\,|\\, \\theta) = \\sum_i \\log \\sum_{z_i} Q_i(z_i) \\frac{P(x_i, z_i \\,|\\, \\theta)}{Q_i(z_i)}$$\n",
    "\n",
    "This turns the inner summation into an expectation.\n",
    "\n",
    "$$\\sum_i \\log \\sum_{z_i} Q_i(z_i) \\frac{P(x_i, z_i \\,|\\, \\theta)}{Q_i(z_i)} = \\sum_i \\log E_{Q_i} \\left[ \\frac{P(x_i, z_i \\,|\\, \\theta)}{Q_i(z_i)} \\right]$$\n",
    "\n",
    "Now, if we apply Jensen's inequality (note that the logarithm is a *concave* function, so the inequality is reversed):\n",
    "\n",
    "$$\\begin{aligned}\n",
    "\\sum_i \\log E_{Q_i} \\left[ \\frac{P(x_i, z_i \\,|\\, \\theta)}{Q_i(z_i)} \\right] &\\ge \\sum_i  E_{Q_i} \\log \\left[ \\frac{P(x_i, z_i \\,|\\, \\theta)}{Q_i(z_i)} \\right] \\\\\n",
    "&= \\sum_i \\sum_{z_i}  Q_i(z_i) \\log \\left[ \\frac{P(x_i, z_i \\,|\\, \\theta)}{Q_i(z_i)} \\right]\n",
    "\\end{aligned}$$\n",
    "\n",
    "We need to ensure that the equality condition holds true, which we can do by choosing $Q_i$ appropriately. Specifically, we want a $Q_i$ such that:\n",
    "\n",
    "$$\\frac{P(x_i, z_i \\,|\\, \\theta)}{Q_i(z_i)} = C$$\n",
    "\n",
    "which implies:\n",
    "\n",
    "$$Q_i(z_i) \\propto P(x_i, z_i \\,|\\, \\theta)$$\n",
    "\n",
    "Since $Q_i$ is a density,\n",
    "\n",
    "$$\\begin{aligned}\n",
    "Q_i(z_i) &= \\frac{P(x_i, z_i \\,|\\, \\theta)}{\\sum_{z_i} P(x_i, z_i \\,|\\, \\theta)} \\\\\n",
    "&= \\frac{P(x_i, z_i \\,|\\, \\theta)}{P(x_i \\,|\\, \\theta)} \\\\\n",
    "&= P(z_i \\,|\\, x_i, \\theta)\n",
    "\\end{aligned}$$"
   ]
  },
  {
   "cell_type": "markdown",
   "metadata": {},
   "source": [
    "Returning to our normal mixture example:\n",
    "\n",
    "For the **E-step** we need to identify $Q_i(z_i)$\n",
    "\n",
    "$$Q_i(z_i) = P(z_i \\,|\\, x_i, \\mu, \\sigma, \\psi)$$\n",
    "\n",
    "Via Bayes' formula:\n",
    "\n",
    "$$P(z_i=j \\,|\\, x_i) = \\frac{P(x_i \\,|\\, z_i=j)P(z_i=j)}{\\sum_l P(x_i \\,|\\, z_i=l)P(z_i=l)}$$\n",
    "\n",
    "where $P(x_i \\,|\\, z_i=l)$ is just the $j$th Normal distribution of the mixture, and $P(z_i=l)$ is a multinomial probability.\n",
    "\n",
    "This gives us:\n",
    "\n",
    "$$P(z_i=1 \\,|\\, x_i) = \\frac{\\psi N(\\mu_b, \\sigma_b^2)}{\\psi N(\\mu_a, \\sigma_a^2) + (1-\\psi) N(\\mu_b, \\sigma_b^2)}$$\n",
    "\n",
    "(recall that we are encoding `a=0` and `b=1`)\n",
    "\n",
    "This can be implemented easily in Python:"
   ]
  },
  {
   "cell_type": "code",
   "execution_count": 2,
   "metadata": {
    "collapsed": false
   },
   "outputs": [],
   "source": [
    "from scipy.stats.distributions import norm\n",
    "\n",
    "def e_step(x, mu, sigma, psi):\n",
    "    a = psi * norm.pdf(x, mu[0], sigma[0])\n",
    "    b = (1. - psi) * norm.pdf(x, mu[1], sigma[1])\n",
    "    return b / (a + b)"
   ]
  },
  {
   "cell_type": "code",
   "execution_count": 3,
   "metadata": {
    "collapsed": false
   },
   "outputs": [
    {
     "data": {
      "text/plain": [
       "0.001415844457163535"
      ]
     },
     "execution_count": 3,
     "metadata": {},
     "output_type": "execute_result"
    }
   ],
   "source": [
    "e_step(0.4, mu_true, sigma_true, psi_true)"
   ]
  },
  {
   "cell_type": "code",
   "execution_count": 4,
   "metadata": {
    "collapsed": false
   },
   "outputs": [
    {
     "data": {
      "text/plain": [
       "[<matplotlib.lines.Line2D at 0x8808828>]"
      ]
     },
     "execution_count": 4,
     "metadata": {},
     "output_type": "execute_result"
    },
    {
     "data": {
      "image/png": "[encoded data removed]",
      "text/plain": [
       "<matplotlib.figure.Figure at 0x43c1fd0>"
      ]
     },
     "metadata": {},
     "output_type": "display_data"
    }
   ],
   "source": [
    "x_range = np.linspace(-5,5)\n",
    "plt.plot(x_range, e_step(x_range, mu_true, sigma_true, psi_true))"
   ]
  },
  {
   "cell_type": "markdown",
   "metadata": {},
   "source": [
    "For the **M-step** we need to maximize\n",
    "\n",
    "$$\\begin{aligned}\\text{argmax}_{\\mu,\\Sigma, \\psi}  \\sum_i \\sum_{z_i}  Q_i(z_i) \\log \\left[ \\frac{P(x_i, z_i \\,|\\, \\theta)}{Q_i(z_i)} \\right] \\\\\n",
    "= \\sum_i \\sum_{z_i} w_{ij} \\log \\left[\\frac{1}{\\sqrt{2 \\pi} \\, |\\Sigma_j|^{1/2} \\, w_{ij}} e^{-\\frac{1}{2} (x_i - \\mu_j) \\Sigma^{-1} (x_i - \\mu_j))} \\psi_j\\right]\n",
    "\\end{aligned}$$\n",
    "\n",
    "which we can show is\n",
    "\n",
    "$$\\begin{aligned}\\psi_j &= \\frac{1}{m} \\sum_i w_{ij} \\\\\n",
    "\\mu_j &= \\frac{\\sum_i w_{ij} x_i}{\\sum_i w_{ij}} \\\\\n",
    "\\sigma_j &= \\frac{\\sum_i w_{ij}(x_i - \\mu_j)^2}{\\sum_i w_{ij}}\n",
    "\\end{aligned}$$\n",
    "\n",
    "This can be coded into Python as `m_step`:"
   ]
  },
  {
   "cell_type": "code",
   "execution_count": 5,
   "metadata": {
    "collapsed": false
   },
   "outputs": [],
   "source": [
    "def m_step(x, w):\n",
    "    psi = np.mean(w) \n",
    "    \n",
    "    mu = [np.sum((1-w) * x)/np.sum(1-w), np.sum(w * x)/np.sum(w)]\n",
    "    \n",
    "    sigma = [np.sqrt(np.sum((1-w) * (x - mu[0])**2)/np.sum(1-w)), \n",
    "             np.sqrt(np.sum(w * (x - mu[1])**2)/np.sum(w))]\n",
    "    \n",
    "    return mu, sigma, psi"
   ]
  },
  {
   "cell_type": "code",
   "execution_count": 11,
   "metadata": {
    "collapsed": false
   },
   "outputs": [
    {
     "name": "stdout",
     "output_type": "stream",
     "text": [
      "A: N(2.4313, 0.7935)\n",
      "B: N(5.1984, 0.8531)\n",
      "psi: 0.5570\n"
     ]
    }
   ],
   "source": [
    "# Initialize values\n",
    "mu = np.random.normal(size=2)\n",
    "sigma = np.random.uniform(0, 10, 2)\n",
    "psi = np.random.random()\n",
    "\n",
    "# Stopping criterion\n",
    "crit = 1e-20\n",
    "\n",
    "# Convergence flag\n",
    "converged = False\n",
    "\n",
    "# Loop until converged\n",
    "while not converged:\n",
    "    \n",
    "    # E-step\n",
    "    w = e_step(x, mu, sigma, psi)\n",
    "    # M-step\n",
    "    mu_new, sigma_new, psi_new = m_step(x, w)\n",
    "    \n",
    "    # Check convergence\n",
    "    converged = ((np.abs(psi_new - psi) < crit) \n",
    "                 & np.all(np.abs((np.array(mu_new) - np.array(mu)) < crit))\n",
    "                 & np.all(np.abs((np.array(sigma_new) - np.array(sigma)) < crit)))\n",
    "    mu, sigma, psi = mu_new, sigma_new, psi_new\n",
    "                \n",
    "print('A: N({0:.4f}, {1:.4f})\\nB: N({2:.4f}, {3:.4f})\\npsi: {4:.4f}'.format(\n",
    "                        mu_new[0], sigma_new[0], mu_new[1], sigma_new[1], psi_new))"
   ]
  },
  {
   "cell_type": "markdown",
   "metadata": {},
   "source": [
    "### Exercise: Zero-inflated data\n",
    "\n",
    "Code the EM algorithm to estimate the paramters of a zero-inflated Poisson (ZIP) model.\n",
    "\n",
    "$$\\begin{eqnarray}\n",
    "f(x \\mid \\theta, \\psi) &\\sim& \\left\\{ \\begin{array}{l}\n",
    "            Poisson(\\theta) \\text{ w.p. } \\psi \\\\\n",
    "            0 \\text{ w.p. } 1-\\psi\n",
    "            \\end{array} \\right. \\\\\n",
    "&=& \\left\\{ \\begin{array}{l}\n",
    "            \\psi \\frac{e^{-\\theta}\\theta^x}{x!}, \\text{if } x=1,2,3,\\ldots \\\\\n",
    "            (1-\\psi) + \\psi e^{-\\theta}, \\text{if } x = 0\n",
    "            \\end{array} \\right.\n",
    "\\end{eqnarray}$$"
   ]
  },
  {
   "cell_type": "code",
   "execution_count": 20,
   "metadata": {
    "collapsed": false
   },
   "outputs": [
    {
     "data": {
      "text/plain": [
       "(array([ 699.,  128.,    0.,  101.,   55.,    0.,   14.,    2.,    1.]),\n",
       " array([ 0.        ,  0.66666667,  1.33333333,  2.        ,  2.66666667,\n",
       "         3.33333333,  4.        ,  4.66666667,  5.33333333,  6.        ]),\n",
       " <a list of 9 Patch objects>)"
      ]
     },
     "execution_count": 20,
     "metadata": {},
     "output_type": "execute_result"
    },
    {
     "data": {
      "image/png": "[encoded data removed]",
      "text/plain": [
       "<matplotlib.figure.Figure at 0x76add30>"
      ]
     },
     "metadata": {},
     "output_type": "display_data"
    }
   ],
   "source": [
    "import numpy as np\n",
    "\n",
    "# True parameter values\n",
    "mu_true = 1.5\n",
    "psi_true = .4\n",
    "n = 1000\n",
    "\n",
    "# Simulate some data\n",
    "data = np.array([np.random.poisson(mu_true)*(np.random.random()<psi_true) for i in range(n)])\n",
    "plt.hist(data, bins=9)"
   ]
  },
  {
   "cell_type": "code",
   "execution_count": 13,
   "metadata": {
    "collapsed": true
   },
   "outputs": [],
   "source": [
    "from scipy.stats.distributions import poisson"
   ]
  },
  {
   "cell_type": "code",
   "execution_count": 14,
   "metadata": {
    "collapsed": true
   },
   "outputs": [],
   "source": [
    "def e_step(x, mu, psi):\n",
    "    \n",
    "    a = (1-psi) * (x==0)\n",
    "    b = psi * poisson.pmf(x, mu)\n",
    "    \n",
    "    return b / (a+b)\n",
    "    "
   ]
  },
  {
   "cell_type": "code",
   "execution_count": 15,
   "metadata": {
    "collapsed": true
   },
   "outputs": [],
   "source": [
    "def m_step(x, w):\n",
    "    \n",
    "    psi = np.mean(w)\n",
    "    \n",
    "    mu = np.sum(w*x)/np.sum(w)\n",
    "    \n",
    "    return mu, psi"
   ]
  },
  {
   "cell_type": "code",
   "execution_count": 22,
   "metadata": {
    "collapsed": true
   },
   "outputs": [],
   "source": [
    "def run_em(mu0=1, psi0=0.5, x=data):\n",
    "    \n",
    "    # Initialize values\n",
    "    mu = mu0\n",
    "    psi = psi0\n",
    "\n",
    "    # Stopping criterion\n",
    "    crit = 1e-20\n",
    "\n",
    "    # Convergence flag\n",
    "    converged = False\n",
    "\n",
    "    # Loop until converged\n",
    "    while not converged:\n",
    "\n",
    "        # E-step\n",
    "        w = e_step(x, mu, psi)\n",
    "        # M-step\n",
    "        mu_new, psi_new = m_step(x, w)\n",
    "\n",
    "        # Check convergence\n",
    "        converged = ((np.abs(psi_new - psi) < crit) \n",
    "                     & np.all(np.abs((np.array(mu_new) - np.array(mu)) < crit)))\n",
    "        mu, psi = mu_new, psi_new\n",
    "\n",
    "    return mu, psi\n"
   ]
  },
  {
   "cell_type": "code",
   "execution_count": 23,
   "metadata": {
    "collapsed": false
   },
   "outputs": [
    {
     "data": {
      "text/plain": [
       "(1.4353228027340732, 0.39503308866824283)"
      ]
     },
     "execution_count": 23,
     "metadata": {},
     "output_type": "execute_result"
    }
   ],
   "source": [
    "run_em()"
   ]
  },
  {
   "cell_type": "markdown",
   "metadata": {},
   "source": [
    "### Example: Peppered moth genotype frequencies\n",
    "\n",
    "Peppered moths (*Biston betularia*) is an example of microevoloution occuring at human time scales. The coloring of the moth is determined by a single gene that is comprised of three alleles:\n",
    "\n",
    "* T\n",
    "* I (dominant to T)\n",
    "* C (dominant to I, T)\n",
    "\n",
    "thus, the genotype TT corresponds to the *typica* phenotype, which results in a light-colored wing pattern; CC, CI and CT results in the dark *carbonaria* phenytype; while IT and II encode an intermediate *insularia* phenotype.\n",
    "\n",
    "Prior to the industrial revolution, the lighter typical and insularia were common, but were eventually replaced by the darker typica phenotype. It is thought that differential predation resulted from the lighter phenotypes being conspicuous against tree bark darkened by pollution from the industrial use of coal; darker carbonaria strains were camoflauged against the darker trees, which offered protection from predation. When air quality standards were improved, the relative abundance of the lighter phenotypes increased to pre-industrial levels.\n",
    "\n",
    "![Gypsy moths](images/moth.jpg)"
   ]
  },
  {
   "cell_type": "markdown",
   "metadata": {},
   "source": [
    "Absent genetic methods for ascertaining the genotypes underlying each individual observed phenotype, we require statistical methods for estimating these frequencies. If we represent the three **allele freuqencies** by the variables $p_C$, $p_I$ and $p_T$, then the genotypes and corresponding frequencies are:\n",
    "\n",
    "* CC = $p_C^2$\n",
    "* CI = $2p_C p_I$\n",
    "* CT = $2p_C p_T$\n",
    "* II = $p_I^2$\n",
    "* IT = $2p_I p_T$\n",
    "* TT = $p_T^2$\n",
    "\n",
    "The genotype frequencies are *latent variables*. If we were able to count alleles, rather than phenotypes, estimating these frquencies would be straightforward.\n",
    "\n",
    "We are able to observe counts of phenotypes, $x_C$, $x_I$ and $x_T$, but not counts of genotypes, $X_{CC}, X_{CI}, X_{CT}, X_{II}, X_{IT}, X_{TT}$, except in the case of $X_{TT} = x_T$, since there is only one genotype that can produce this phenotype.\n",
    "\n",
    "If we had complete data, the latent allele frequencies could be estimated using a **multinomial model**:\n",
    "\n",
    "$$\\begin{eqnarray}f(x \\mid n, \\pi) &=& \\frac{n!}{\\prod_{i=1}^k x_i!} \\prod_{i=1}^k \\pi_i^{x_i} \\\\\n",
    "&=& \\frac{n!}{x_{CC}! x_{CI}! x_{CT}! x_{II}! x_{IT}! x_{TT}!} (p_C^2)^{x_{CC}} (2p_C p_I)^{x_{CI}} (2p_C p_T)^{x_{CT}} (p_I^2)^{x_{II}} (2p_I p_T)^{x_{IT}} (p_T^2)^{x_{TT}} \\end{eqnarray}$$\n",
    "\n",
    "We can use the EM algorithm to estimate the latent variables conditional on the data that we do observe. We first need to construct $Q(z) = P(z|x)$ so that this expectation can be calculated. For each unobserved genotype count, we need to estimate the proportion of the observed phenotype count that is contributed by that genotype. For example, in the case of the homozygous *carbonaria*:\n",
    "\n",
    "$$E[X_{CC}| x_{C}, x_{T}, x_{I}, \\mathbf{p}^{(t)}] = x_{(CC)}^{(t)} = \\frac{x_C (p_C^{(t)})^2}{(p_C^{(t)})^2 + 2p_C^{(t)} p_I^{(t)} + 2p_C^{(t)} p_T^{(t)}}$$\n",
    "\n",
    "Similarly, for genotype CI:\n",
    "\n",
    "$$E[X_{CI}| x_{C}, x_{T}, x_{I}, \\mathbf{p}^{(t)}] = x_{(CI)}^{(t)} = \\frac{2 x_C p_C^{(t)} p_I^{(t)}}{(p_C^{(t)})^2 + 2p_C^{(t)} p_I^{(t)} + 2p_C^{(t)} p_T^{(t)}}$$\n",
    "\n",
    "and so on."
   ]
  },
  {
   "cell_type": "markdown",
   "metadata": {},
   "source": [
    "### Exercise: E-step\n",
    "\n",
    "Code the expectation step for the latent genotype counts."
   ]
  },
  {
   "cell_type": "code",
   "execution_count": null,
   "metadata": {
    "collapsed": true
   },
   "outputs": [],
   "source": [
    "# Number in each phenotype\n",
    "x_C = 85  \n",
    "x_I = 196 \n",
    "x_T = 341\n",
    "\n",
    "N = x_C + x_I + x_T"
   ]
  },
  {
   "cell_type": "code",
   "execution_count": null,
   "metadata": {
    "collapsed": true
   },
   "outputs": [],
   "source": [
    "# Write your answer here"
   ]
  },
  {
   "cell_type": "markdown",
   "metadata": {},
   "source": [
    "To update the values of the allele frequencies, we need to maximize the multinomial (log) likelihood.\n",
    "\n",
    "Since the combinatorial term does not involve $\\mathbf{p}$, we can write:\n",
    "\n",
    "$$\\begin{eqnarray}\n",
    "Q(\\mathbf{p}) &\\propto& x_{(CC)}^{(t)} \\log[(p_C^2)^{(t)}] + x_{(CI)}^{(t)} \\log[2p_C^{(t)}p_I^{(t)}] \\\\\n",
    "&+& x_{(CT)}^{(t)} \\log[2p_C^{(t)}p_T^{(t)}] + x_{(II)}^{(t)} \\log[(p_I^2)^{(t)}] \\\\\n",
    "&+& x_{(IT)}^{(t)} \\log[2p_I^{(t)}p_T^{(t)}] + x_{(TT)}^{(t)} \\log[(p_T^2)^{(t)}]\n",
    "\\end{eqnarray}$$\n",
    "\n",
    "Since $p_T = 1 - p_I + p_C$, we only need to worry about maximizing two functions:\n",
    "\n",
    "$$\\frac{dQ}{dp_C} = \\frac{2x_{(CC)}^{(t)} + x_{(CI)}^{(t)} + x_{(CT)}^{(t)}}{p_C} - \\frac{2x_{(TT)}^{(t)} + x_{(CT)}^{(t)} + x_{(IT)}^{(t)}}{1 - p_C - p_I}$$\n",
    "\n",
    "$$\\frac{dQ}{dp_I} = \\frac{2x_{(II)}^{(t)} + x_{(CI)}^{(t)} + x_{(IT)}^{(t)}}{p_I} - \\frac{2x_{(TT)}^{(t)} + x_{(CT)}^{(t)} + x_{(IT)}^{(t)}}{1 - p_C - p_I}$$\n",
    "\n",
    "If we set these equal to zero and solve for the $p$'s, we complete the M step.\n",
    "\n",
    "$$p_C^{(t+1)} = \\frac{2x_{(CC)}^{(t)} + x_{(CI)}^{(t)} + x_{(CT)}^{(t)}}{2N}$$\n",
    "\n",
    "$$p_I^{(t+1)} = \\frac{2x_{(II)}^{(t)} + x_{(CI)}^{(t)} + x_{(IT)}^{(t)}}{2N}$$\n",
    "\n",
    "$$p_T^{(t+1)} = \\frac{2x_{(TT)}^{(t)} + x_{(CT)}^{(t)} + x_{(IT)}^{(t)}}{2N}$$\n",
    "\n",
    "So, the update involves setting each $p$ equal to the phenotype frequencies that correspond to the latent genotype count at that step."
   ]
  },
  {
   "cell_type": "markdown",
   "metadata": {},
   "source": [
    "### Exercise: M-step\n",
    "\n",
    "Code a function for calculating the M-step."
   ]
  },
  {
   "cell_type": "code",
   "execution_count": null,
   "metadata": {
    "collapsed": true
   },
   "outputs": [],
   "source": [
    "# Write your answer here"
   ]
  },
  {
   "cell_type": "markdown",
   "metadata": {},
   "source": [
    "### Exercise: Estimate allele frequencies\n",
    "\n",
    "Combine the E-step and M-step to estimate the latent allele frequencies using EM."
   ]
  },
  {
   "cell_type": "code",
   "execution_count": null,
   "metadata": {
    "collapsed": true
   },
   "outputs": [],
   "source": [
    "# Write your answer here"
   ]
  },
  {
   "cell_type": "markdown",
   "metadata": {},
   "source": [
    "## Convergence\n",
    "\n",
    "Each time we perform the maximization step, the likelihood of the observed data increases. Note that:\n",
    "\n",
    "$$P(x,z) = P(z \\,|\\, x)P(x)$$\n",
    "\n",
    "which implies:\n",
    "\n",
    "$$\\begin{eqnarray}\n",
    "E[\\log P(x)| x, \\theta^{(t)}] &=& E[\\log P(x,z)|\\theta^{(t)})] - E[\\log P(z \\,|\\, x)| x, \\theta^{(t)}] \\\\\n",
    "&=& Q(\\theta | \\theta^{(t)}) - H(\\theta | \\theta^{(t)})\n",
    "\\end{eqnarray}$$\n",
    "\n",
    "where $H(\\theta | \\theta^{(t)}) = E[\\log P(z \\,|\\, x)| x, \\theta^{(t)}]$.\n",
    "\n",
    "The second term is maximized with respect to $\\theta$ when $\\theta^{(t)} = \\theta$:\n",
    "\n",
    "$$\\begin{eqnarray}\n",
    "H(\\theta^{(t)} | \\theta^{(t)}) - H(\\theta | \\theta^{(t)}) &=& E[\\log P(z \\,|\\, x, \\theta^{(t)}) - \\log P(z \\,|\\, x, \\theta) | x, \\theta^{(t)}] \\\\\n",
    "&=& \\int -\\log \\left[ \\frac{\\log P(z \\,|\\, x, \\theta)}{\\log P(z \\,|\\, x, \\theta^{(t)})} \\right] \\log P(z \\,|\\, x, \\theta^{(t)}) dz \\\\\n",
    "&\\ge& -\\log \\int \\log P(z \\,|\\, x, \\theta) dz = 0\n",
    "\\end{eqnarray}$$\n",
    "\n",
    "where the inequality is due to Jensen's inequality.\n",
    "\n",
    "So, any $\\theta \\ne \\theta^{(t)}$ makes $H(\\theta | \\theta^{(t)})$ smaller than $H(\\theta^{(t)} | \\theta^{(t)})$.\n",
    "\n",
    "If we choose a $\\theta^{(t+1)}$ to maximimze $Q(\\theta | \\theta^{(t)})$ then we have:\n",
    "\n",
    "$$\\log P(x |\\theta^{(t+1)}) - \\log P(x |\\theta^{(t)}) \\ge 0$$\n",
    "\n",
    "because $Q$ increases and $H$ decreases.\n",
    "\n",
    "The EM algorithm guaranteees that $P(x \\,|\\, \\theta^{(t+1)}) \\ge  P(x \\,|\\,  \\theta^{(t)})$, however there is no guarantee that we will obtain the true MLE (due to multimodality).\n",
    "\n",
    "### Order of convergence\n",
    "\n",
    "The global rate of convergence for EM is:\n",
    "\n",
    "$$\\rho = \\lim_{t \\rightarrow \\infty} \\frac{||\\theta^{(t+1)} - \\hat{\\theta}||}{||\\theta^{(t)} - \\hat{\\theta}||}$$\n",
    "\n",
    "EM has approximately linear convergence, provided the observed information is positive definite. The realized rate of convergence slows as the proportion of missing data increases.\n",
    "\n",
    "Though the performance of EM is very slow relative to other optimization methods, it is easy to implement and stable, and is therefore widely used. It works best for likelihoods of the [exponential family of distributions](https://en.wikipedia.org/wiki/Exponential_family)."
   ]
  },
  {
   "cell_type": "markdown",
   "metadata": {},
   "source": [
    "### Exercise: Monitoring convergence\n",
    "\n",
    "Modify your EM code above to track the convergence of the algorithm as it is run."
   ]
  },
  {
   "cell_type": "code",
   "execution_count": null,
   "metadata": {
    "collapsed": true
   },
   "outputs": [],
   "source": [
    "# Write your answer here"
   ]
  },
  {
   "cell_type": "markdown",
   "metadata": {},
   "source": [
    "# References\n",
    "\n",
    "- A. P. Dempster; N. M. Laird; D. B. Rubin. 1977. [Maximum Likelihood from Incomplete Data via the EM Algorithm](http://web.mit.edu/6.435/www/Dempster77.pdf) Journal of the Royal Statistical Society. Series B (Methodological), Vol. 39, No. 1. (1977), pp. 1-38.\n",
    "- [Python for Signal Processing](http://python-for-signal-processing.blogspot.com/2012/11/expectation-maximization-expectation.html)\n",
    "- [Stanford University's Machine Learning (Coursera)](https://www.coursera.org/course/ml)"
   ]
  }
 ],
 "metadata": {
  "anaconda-cloud": {},
  "kernelspec": {
   "display_name": "Python [Root]",
   "language": "python",
   "name": "Python [Root]"
  },
  "language_info": {
   "codemirror_mode": {
    "name": "ipython",
    "version": 3
   },
   "file_extension": ".py",
   "mimetype": "text/x-python",
   "name": "python",
   "nbconvert_exporter": "python",
   "pygments_lexer": "ipython3",
   "version": "3.5.2"
  },
  "latex_envs": {
   "bibliofile": "biblio.bib",
   "cite_by": "apalike",
   "current_citInitial": 1,
   "eqLabelWithNumbers": true,
   "eqNumInitial": 0
  },
  "nav_menu": {},
  "toc": {
   "navigate_menu": true,
   "number_sections": false,
   "sideBar": false,
   "threshold": "3",
   "toc_cell": true,
   "toc_section_display": "block",
   "toc_window_display": false
  }
 },
 "nbformat": 4,
 "nbformat_minor": 1
}
